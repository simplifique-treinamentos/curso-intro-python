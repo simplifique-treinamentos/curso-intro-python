{
  "nbformat": 4,
  "nbformat_minor": 0,
  "metadata": {
    "colab": {
      "provenance": [],
      "toc_visible": true,
      "authorship_tag": "ABX9TyMQaiJ5N1lZueDOppOXsVip",
      "include_colab_link": true
    },
    "kernelspec": {
      "name": "python3",
      "display_name": "Python 3"
    },
    "language_info": {
      "name": "python"
    }
  },
  "cells": [
    {
      "cell_type": "markdown",
      "metadata": {
        "id": "view-in-github",
        "colab_type": "text"
      },
      "source": [
        "<a href=\"https://colab.research.google.com/github/simplifique-treinamentos/curso-intro-python/blob/main/Aula3.ipynb\" target=\"_parent\"><img src=\"https://colab.research.google.com/assets/colab-badge.svg\" alt=\"Open In Colab\"/></a>"
      ]
    },
    {
      "cell_type": "code",
      "execution_count": null,
      "metadata": {
        "id": "FGs2HJz8QWTg"
      },
      "outputs": [],
      "source": [
        "numero = 2"
      ]
    },
    {
      "cell_type": "code",
      "source": [
        "def eh_par(numero):\n",
        "  if (numero % 2 == 0):\n",
        "    print(\"número é par!\")\n",
        "  else:\n",
        "    print(\"número é impar!\")"
      ],
      "metadata": {
        "id": "Uw3TVwzWQb7I"
      },
      "execution_count": null,
      "outputs": []
    },
    {
      "cell_type": "code",
      "source": [
        "eh_par(11)"
      ],
      "metadata": {
        "colab": {
          "base_uri": "https://localhost:8080/"
        },
        "id": "IkflkMi5QvV0",
        "outputId": "f21d9b20-4742-4326-b29b-31cec49d70eb"
      },
      "execution_count": null,
      "outputs": [
        {
          "output_type": "stream",
          "name": "stdout",
          "text": [
            "número é impar!\n"
          ]
        }
      ]
    },
    {
      "cell_type": "code",
      "source": [
        "a = 7"
      ],
      "metadata": {
        "id": "_Z3KvWy3RHyI"
      },
      "execution_count": null,
      "outputs": []
    },
    {
      "cell_type": "code",
      "source": [
        "b = 8"
      ],
      "metadata": {
        "id": "ChpNivqjSO0m"
      },
      "execution_count": null,
      "outputs": []
    },
    {
      "cell_type": "code",
      "source": [
        "def comparar_numeros(a,b):\n",
        "  if (a > b):\n",
        "    print(\"a maior do que b\")\n",
        "  elif(a == b):\n",
        "    print(\"a é igual a b\")\n",
        "  else:\n",
        "    print(\"b maior do que a\")"
      ],
      "metadata": {
        "id": "JQXNV68ISPuz"
      },
      "execution_count": null,
      "outputs": []
    },
    {
      "cell_type": "code",
      "source": [
        "comparar_numeros(2,2)"
      ],
      "metadata": {
        "colab": {
          "base_uri": "https://localhost:8080/"
        },
        "id": "CCJ2DrQBSZ-r",
        "outputId": "d5d267dc-bfa4-452b-908e-c28aaf51e853"
      },
      "execution_count": null,
      "outputs": [
        {
          "output_type": "stream",
          "name": "stdout",
          "text": [
            "a é igual a b\n"
          ]
        }
      ]
    },
    {
      "cell_type": "code",
      "source": [
        "inicio = 0\n",
        "\n",
        "while(inicio<=10):\n",
        "  print(inicio)\n",
        "  inicio = inicio + 1"
      ],
      "metadata": {
        "colab": {
          "base_uri": "https://localhost:8080/"
        },
        "id": "gqfuiKjPTUgZ",
        "outputId": "5e4ee679-316a-4b75-f81b-baa27fd99676"
      },
      "execution_count": null,
      "outputs": [
        {
          "output_type": "stream",
          "name": "stdout",
          "text": [
            "0\n",
            "1\n",
            "2\n",
            "3\n",
            "4\n",
            "5\n",
            "6\n",
            "7\n",
            "8\n",
            "9\n",
            "10\n"
          ]
        }
      ]
    },
    {
      "cell_type": "code",
      "source": [
        "def converter_minutos_em_segundos(minutos):\n",
        "  \"\"\"\n",
        "  Função para converter minutos em segundos\n",
        "\n",
        "  Parâmetro\n",
        "  ---------\n",
        "  minutos: int\n",
        "  \"\"\"\n",
        "  segundos = 0\n",
        "\n",
        "  try:\n",
        "    segundos = int(minutos) * 60\n",
        "    print(segundos)\n",
        "  except:\n",
        "    print(\"digite um número em minutos\")"
      ],
      "metadata": {
        "id": "ko3q_JQ7UvFG"
      },
      "execution_count": null,
      "outputs": []
    },
    {
      "cell_type": "code",
      "source": [
        "converter_minutos_em_segundos(5)"
      ],
      "metadata": {
        "colab": {
          "base_uri": "https://localhost:8080/"
        },
        "id": "MxCsyBLSV56U",
        "outputId": "4242827d-d5a5-4258-bc6d-ca26716da3fa"
      },
      "execution_count": null,
      "outputs": [
        {
          "output_type": "stream",
          "name": "stdout",
          "text": [
            "300\n"
          ]
        }
      ]
    },
    {
      "cell_type": "code",
      "source": [
        "converter_minutos_em_segundos(\"abc\")"
      ],
      "metadata": {
        "colab": {
          "base_uri": "https://localhost:8080/"
        },
        "id": "gCJQNqsBV_7k",
        "outputId": "7eea77a2-7c00-4d3d-e2f0-a894922f56a9"
      },
      "execution_count": null,
      "outputs": [
        {
          "output_type": "stream",
          "name": "stdout",
          "text": [
            "digite um número em minutos\n"
          ]
        }
      ]
    },
    {
      "cell_type": "code",
      "source": [
        "entrada = \"\"\n",
        "\n",
        "while (entrada != \"sair\"):\n",
        "  entrada = input(\"Digite o valor em minutos para conversão ou sair: \")\n",
        "\n",
        "  if(entrada != \"sair\"):\n",
        "    converter_minutos_em_segundos(entrada)"
      ],
      "metadata": {
        "colab": {
          "base_uri": "https://localhost:8080/"
        },
        "id": "AtS2SwR2WFBh",
        "outputId": "eb630558-6b7b-4516-9d23-2624da4a84dc"
      },
      "execution_count": null,
      "outputs": [
        {
          "name": "stdout",
          "output_type": "stream",
          "text": [
            "Digite o valor em minutos para conversão ou sair: 1\n",
            "60\n",
            "Digite o valor em minutos para conversão ou sair: 2\n",
            "120\n",
            "Digite o valor em minutos para conversão ou sair: sair\n"
          ]
        }
      ]
    },
    {
      "cell_type": "markdown",
      "source": [
        "# Exercício: Faça uma contagem regressiva usando um loop while\n",
        "**Inclua essa contagem dentro de uma função**"
      ],
      "metadata": {
        "id": "xil6WwpXW3ky"
      }
    },
    {
      "cell_type": "code",
      "source": [],
      "metadata": {
        "id": "ddSwd3Yzjv5y"
      },
      "execution_count": null,
      "outputs": []
    },
    {
      "cell_type": "markdown",
      "source": [
        "Exiba a célula abaixo para ver o resultado"
      ],
      "metadata": {
        "id": "VvnpOZ3xjwql"
      }
    },
    {
      "cell_type": "code",
      "source": [
        "#@title\n",
        "def contagem_regressiva(numero):\n",
        "  i = 0\n",
        "  while (numero >= 0):\n",
        "    print(numero)\n",
        "    numero = numero - 1\n",
        "\n",
        "contagem_regressiva(10)"
      ],
      "metadata": {
        "colab": {
          "base_uri": "https://localhost:8080/"
        },
        "cellView": "form",
        "id": "3FegX_9Yj1LJ",
        "outputId": "c1a77159-2642-4eb2-a1c9-1895cf3fa31e"
      },
      "execution_count": 3,
      "outputs": [
        {
          "output_type": "stream",
          "name": "stdout",
          "text": [
            "10\n",
            "9\n",
            "8\n",
            "7\n",
            "6\n",
            "5\n",
            "4\n",
            "3\n",
            "2\n",
            "1\n",
            "0\n"
          ]
        }
      ]
    },
    {
      "cell_type": "code",
      "source": [],
      "metadata": {
        "id": "GzZk7HoQkARH"
      },
      "execution_count": null,
      "outputs": []
    }
  ]
}