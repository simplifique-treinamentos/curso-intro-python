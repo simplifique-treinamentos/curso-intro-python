{
  "nbformat": 4,
  "nbformat_minor": 0,
  "metadata": {
    "colab": {
      "provenance": [],
      "toc_visible": true,
      "authorship_tag": "ABX9TyPPb34sRD8PI2Y7T8vanDa7",
      "include_colab_link": true
    },
    "kernelspec": {
      "name": "python3",
      "display_name": "Python 3"
    },
    "language_info": {
      "name": "python"
    }
  },
  "cells": [
    {
      "cell_type": "markdown",
      "metadata": {
        "id": "view-in-github",
        "colab_type": "text"
      },
      "source": [
        "<a href=\"https://colab.research.google.com/github/simplifique-treinamentos/curso-intro-python/blob/main/Aula2.ipynb\" target=\"_parent\"><img src=\"https://colab.research.google.com/assets/colab-badge.svg\" alt=\"Open In Colab\"/></a>"
      ]
    },
    {
      "cell_type": "code",
      "execution_count": null,
      "metadata": {
        "colab": {
          "base_uri": "https://localhost:8080/"
        },
        "id": "00pG8y68fiAj",
        "outputId": "de6a4db5-dabb-4e8f-fa0e-0cdc1889078a"
      },
      "outputs": [
        {
          "output_type": "stream",
          "name": "stdout",
          "text": [
            "Olá Mundo!\n"
          ]
        }
      ],
      "source": [
        "print(\"Olá Mundo!\")"
      ]
    },
    {
      "cell_type": "markdown",
      "source": [
        "# 1) Declarando variáveis no Python"
      ],
      "metadata": {
        "id": "48Y49WmYfnm6"
      }
    },
    {
      "cell_type": "code",
      "source": [
        "nome = \"Fernando\""
      ],
      "metadata": {
        "id": "vh4utQJcf52S"
      },
      "execution_count": null,
      "outputs": []
    },
    {
      "cell_type": "code",
      "source": [
        "nome"
      ],
      "metadata": {
        "colab": {
          "base_uri": "https://localhost:8080/",
          "height": 35
        },
        "id": "gWP4gRyff-pm",
        "outputId": "d927273f-51cd-428f-f435-f018f4b2eb54"
      },
      "execution_count": null,
      "outputs": [
        {
          "output_type": "execute_result",
          "data": {
            "text/plain": [
              "'Fernando'"
            ],
            "application/vnd.google.colaboratory.intrinsic+json": {
              "type": "string"
            }
          },
          "metadata": {},
          "execution_count": 6
        }
      ]
    },
    {
      "cell_type": "code",
      "source": [
        "type(nome)"
      ],
      "metadata": {
        "colab": {
          "base_uri": "https://localhost:8080/"
        },
        "id": "NibKP15Nf_lR",
        "outputId": "428f18c7-86a6-4166-f25a-4d663e885c26"
      },
      "execution_count": null,
      "outputs": [
        {
          "output_type": "execute_result",
          "data": {
            "text/plain": [
              "str"
            ]
          },
          "metadata": {},
          "execution_count": 7
        }
      ]
    },
    {
      "cell_type": "code",
      "source": [
        "print(\"Olá: \" + nome)"
      ],
      "metadata": {
        "colab": {
          "base_uri": "https://localhost:8080/"
        },
        "id": "c5lUvdrAgB3t",
        "outputId": "ef38b44b-d447-49ab-bdb4-b8e5cc9b0151"
      },
      "execution_count": null,
      "outputs": [
        {
          "output_type": "stream",
          "name": "stdout",
          "text": [
            "Olá: Fernando\n"
          ]
        }
      ]
    },
    {
      "cell_type": "code",
      "source": [
        "sobrenome = \"Fernandes\""
      ],
      "metadata": {
        "id": "a68cYdjpgRX2"
      },
      "execution_count": null,
      "outputs": []
    },
    {
      "cell_type": "code",
      "source": [
        "print(nome + \" \" + sobrenome)"
      ],
      "metadata": {
        "colab": {
          "base_uri": "https://localhost:8080/"
        },
        "id": "tT4e1RdTgY8F",
        "outputId": "bbee72c6-85e3-4b1a-a831-63a17595b1e5"
      },
      "execution_count": null,
      "outputs": [
        {
          "output_type": "stream",
          "name": "stdout",
          "text": [
            "Fernando Fernandes\n"
          ]
        }
      ]
    },
    {
      "cell_type": "code",
      "source": [
        "nomeCompleto = nome + \" \" + sobrenome\n",
        "nomeCompleto"
      ],
      "metadata": {
        "colab": {
          "base_uri": "https://localhost:8080/",
          "height": 35
        },
        "id": "jX5kcQRqgdMP",
        "outputId": "2651584f-e47d-4fb9-837a-cf84a7def959"
      },
      "execution_count": null,
      "outputs": [
        {
          "output_type": "execute_result",
          "data": {
            "text/plain": [
              "'Fernando Fernandes'"
            ],
            "application/vnd.google.colaboratory.intrinsic+json": {
              "type": "string"
            }
          },
          "metadata": {},
          "execution_count": 13
        }
      ]
    },
    {
      "cell_type": "markdown",
      "source": [
        "# 2) Declarando variáveis numéricas"
      ],
      "metadata": {
        "id": "aQnqv-Qigiva"
      }
    },
    {
      "cell_type": "code",
      "source": [
        "a = 5"
      ],
      "metadata": {
        "id": "w1hhd6Ixgvpo"
      },
      "execution_count": null,
      "outputs": []
    },
    {
      "cell_type": "code",
      "source": [
        "b = 2"
      ],
      "metadata": {
        "id": "cQWoLoXTgxVF"
      },
      "execution_count": null,
      "outputs": []
    },
    {
      "cell_type": "code",
      "source": [
        "type(a)"
      ],
      "metadata": {
        "colab": {
          "base_uri": "https://localhost:8080/"
        },
        "id": "hQG7wTYogydf",
        "outputId": "a5a4dc56-a9f6-4e89-a203-24186694976a"
      },
      "execution_count": null,
      "outputs": [
        {
          "output_type": "execute_result",
          "data": {
            "text/plain": [
              "int"
            ]
          },
          "metadata": {},
          "execution_count": 17
        }
      ]
    },
    {
      "cell_type": "code",
      "source": [
        "type(b)"
      ],
      "metadata": {
        "colab": {
          "base_uri": "https://localhost:8080/"
        },
        "id": "a5YpDqZvgz1D",
        "outputId": "9f8f95b6-6c91-4080-933b-da7ecfa0a65d"
      },
      "execution_count": null,
      "outputs": [
        {
          "output_type": "execute_result",
          "data": {
            "text/plain": [
              "int"
            ]
          },
          "metadata": {},
          "execution_count": 18
        }
      ]
    },
    {
      "cell_type": "code",
      "source": [
        "a*b"
      ],
      "metadata": {
        "colab": {
          "base_uri": "https://localhost:8080/"
        },
        "id": "YFJN6pPAg08o",
        "outputId": "106b1539-7d19-4583-9334-222abac80a79"
      },
      "execution_count": null,
      "outputs": [
        {
          "output_type": "execute_result",
          "data": {
            "text/plain": [
              "10"
            ]
          },
          "metadata": {},
          "execution_count": 19
        }
      ]
    },
    {
      "cell_type": "code",
      "source": [
        "a/b"
      ],
      "metadata": {
        "colab": {
          "base_uri": "https://localhost:8080/"
        },
        "id": "a1C6uU4Ug4Qn",
        "outputId": "a33a0c04-4d7b-4308-af40-8d564ca79316"
      },
      "execution_count": null,
      "outputs": [
        {
          "output_type": "execute_result",
          "data": {
            "text/plain": [
              "2.5"
            ]
          },
          "metadata": {},
          "execution_count": 20
        }
      ]
    },
    {
      "cell_type": "code",
      "source": [
        "c = a/b"
      ],
      "metadata": {
        "id": "glEvsh-Sg63n"
      },
      "execution_count": null,
      "outputs": []
    },
    {
      "cell_type": "code",
      "source": [
        "c"
      ],
      "metadata": {
        "colab": {
          "base_uri": "https://localhost:8080/"
        },
        "id": "y-UYJwHCg9Ze",
        "outputId": "f1746dff-7a89-4e9a-8037-c2fd68281f37"
      },
      "execution_count": null,
      "outputs": [
        {
          "output_type": "execute_result",
          "data": {
            "text/plain": [
              "2.5"
            ]
          },
          "metadata": {},
          "execution_count": 22
        }
      ]
    },
    {
      "cell_type": "code",
      "source": [
        "type(c)"
      ],
      "metadata": {
        "colab": {
          "base_uri": "https://localhost:8080/"
        },
        "id": "T2kG93Rqg-gO",
        "outputId": "9d43039f-71d6-41c7-81b7-01e9fb8941ba"
      },
      "execution_count": null,
      "outputs": [
        {
          "output_type": "execute_result",
          "data": {
            "text/plain": [
              "float"
            ]
          },
          "metadata": {},
          "execution_count": 23
        }
      ]
    },
    {
      "cell_type": "code",
      "source": [
        "from decimal import *"
      ],
      "metadata": {
        "id": "kBO59gO5hBUJ"
      },
      "execution_count": null,
      "outputs": []
    },
    {
      "cell_type": "code",
      "source": [
        "d = Decimal(5.9999999)"
      ],
      "metadata": {
        "id": "qz5946BAhHnn"
      },
      "execution_count": null,
      "outputs": []
    },
    {
      "cell_type": "code",
      "source": [
        "d"
      ],
      "metadata": {
        "colab": {
          "base_uri": "https://localhost:8080/"
        },
        "id": "XPWC8_lHhNd9",
        "outputId": "4f2ffb93-24c7-4432-f99c-f37b9ade2ee0"
      },
      "execution_count": null,
      "outputs": [
        {
          "output_type": "execute_result",
          "data": {
            "text/plain": [
              "Decimal('5.99999989999999971956867739208973944187164306640625')"
            ]
          },
          "metadata": {},
          "execution_count": 26
        }
      ]
    },
    {
      "cell_type": "code",
      "source": [
        "m1 = 15"
      ],
      "metadata": {
        "id": "FZA5yOPxhOHj"
      },
      "execution_count": null,
      "outputs": []
    },
    {
      "cell_type": "code",
      "source": [
        "m1*60"
      ],
      "metadata": {
        "colab": {
          "base_uri": "https://localhost:8080/"
        },
        "id": "J8CmfWKxhohj",
        "outputId": "e08f5d8e-e847-4791-f5c2-4cd5b640135c"
      },
      "execution_count": null,
      "outputs": [
        {
          "output_type": "execute_result",
          "data": {
            "text/plain": [
              "900"
            ]
          },
          "metadata": {},
          "execution_count": 28
        }
      ]
    },
    {
      "cell_type": "markdown",
      "source": [
        "# 3) Declarar Funções"
      ],
      "metadata": {
        "id": "1Fcu7mVUhqHt"
      }
    },
    {
      "cell_type": "code",
      "source": [
        "def calcular_segundos(valor_em_minutos):\n",
        "  \"\"\"\n",
        "  Função para calcular segundos de variáveis passadas como parâmetro\n",
        "\n",
        "  Parâmetros\n",
        "  --------------------\n",
        "  valor_em_minutos: int\n",
        "\n",
        "  Retorna\n",
        "  --------\n",
        "  valor em segundos: int\n",
        "\n",
        "  \"\"\"\n",
        "\n",
        "  return valor_em_minutos * 60"
      ],
      "metadata": {
        "id": "6eCtoRtNhzif"
      },
      "execution_count": null,
      "outputs": []
    },
    {
      "cell_type": "code",
      "source": [
        "retorno = calcular_segundos(15)"
      ],
      "metadata": {
        "id": "GBUdcJNeiPcG"
      },
      "execution_count": null,
      "outputs": []
    },
    {
      "cell_type": "code",
      "source": [
        "retorno"
      ],
      "metadata": {
        "colab": {
          "base_uri": "https://localhost:8080/"
        },
        "id": "8U4Gscgokq7a",
        "outputId": "6fffee63-d219-4127-c61b-e759627a1588"
      },
      "execution_count": null,
      "outputs": [
        {
          "output_type": "execute_result",
          "data": {
            "text/plain": [
              "900"
            ]
          },
          "metadata": {},
          "execution_count": 43
        }
      ]
    },
    {
      "cell_type": "code",
      "source": [
        "calcular_segundos(50)"
      ],
      "metadata": {
        "colab": {
          "base_uri": "https://localhost:8080/"
        },
        "id": "Aj0Ah_9YjIQX",
        "outputId": "8841d529-7d8e-4572-97c5-db6d7ace89fa"
      },
      "execution_count": null,
      "outputs": [
        {
          "output_type": "stream",
          "name": "stdout",
          "text": [
            "3000\n"
          ]
        }
      ]
    },
    {
      "cell_type": "code",
      "source": [
        "def funcao_sem_parametros():\n",
        "  print(\"Olá alunos!\")"
      ],
      "metadata": {
        "id": "PXYLDuK4jK5C"
      },
      "execution_count": null,
      "outputs": []
    },
    {
      "cell_type": "code",
      "source": [
        "funcao_sem_parametros()"
      ],
      "metadata": {
        "colab": {
          "base_uri": "https://localhost:8080/"
        },
        "id": "8LdjFRfBjkFM",
        "outputId": "cee792be-7176-4353-88a4-2e367fa1a187"
      },
      "execution_count": null,
      "outputs": [
        {
          "output_type": "stream",
          "name": "stdout",
          "text": [
            "Olá alunos!\n"
          ]
        }
      ]
    },
    {
      "cell_type": "code",
      "source": [
        "funcao_sem_parametros()"
      ],
      "metadata": {
        "colab": {
          "base_uri": "https://localhost:8080/"
        },
        "id": "v1vZXp9-jmVx",
        "outputId": "4d2d42b6-1b34-49e9-a0a4-c727b4471b83"
      },
      "execution_count": null,
      "outputs": [
        {
          "output_type": "stream",
          "name": "stdout",
          "text": [
            "Olá alunos!\n"
          ]
        }
      ]
    },
    {
      "cell_type": "code",
      "source": [
        "def somar(a,b):\n",
        "  \"\"\"\n",
        "  Função que soma 2 números\n",
        "\n",
        "  Parâmetros\n",
        "  ------------\n",
        "  a: int\n",
        "  b: int\n",
        "\n",
        "  Retorna\n",
        "  -------\n",
        "\n",
        "  return: int\n",
        "  \"\"\"\n",
        "  print(a+b)"
      ],
      "metadata": {
        "id": "XZlOjsJAjn5w"
      },
      "execution_count": null,
      "outputs": []
    },
    {
      "cell_type": "code",
      "source": [
        "c = somar(5,8)"
      ],
      "metadata": {
        "id": "-enkyRNxlMmK"
      },
      "execution_count": null,
      "outputs": []
    },
    {
      "cell_type": "code",
      "source": [
        "somar(5,9)"
      ],
      "metadata": {
        "colab": {
          "base_uri": "https://localhost:8080/"
        },
        "id": "5YQL96R9lfDF",
        "outputId": "9d17488c-57cd-4498-da71-a901d5ac58c1"
      },
      "execution_count": null,
      "outputs": [
        {
          "output_type": "stream",
          "name": "stdout",
          "text": [
            "14\n"
          ]
        }
      ]
    },
    {
      "cell_type": "code",
      "source": [
        "from random import seed"
      ],
      "metadata": {
        "id": "gxj0k3lElgZ7"
      },
      "execution_count": null,
      "outputs": []
    },
    {
      "cell_type": "code",
      "source": [
        "from random import randint"
      ],
      "metadata": {
        "id": "O4YgN3LUmz5Q"
      },
      "execution_count": null,
      "outputs": []
    },
    {
      "cell_type": "code",
      "source": [
        "def simular_dados():\n",
        "  base = randint(1,20)\n",
        "\n",
        "  altura = randint(50,100)\n",
        "\n",
        "  return base, altura\n",
        "\n",
        "f = \"teste\""
      ],
      "metadata": {
        "id": "eXBYQKutm3ip"
      },
      "execution_count": null,
      "outputs": []
    },
    {
      "cell_type": "code",
      "source": [
        "simular_dados()"
      ],
      "metadata": {
        "colab": {
          "base_uri": "https://localhost:8080/"
        },
        "id": "pHp6s_i6nDQ1",
        "outputId": "1d3b1b64-5686-494c-e702-e037900a27df"
      },
      "execution_count": null,
      "outputs": [
        {
          "output_type": "execute_result",
          "data": {
            "text/plain": [
              "(15, 69)"
            ]
          },
          "metadata": {},
          "execution_count": 56
        }
      ]
    },
    {
      "cell_type": "code",
      "source": [
        "def calcular_area(base, altura):\n",
        "  \"\"\"\n",
        "  Cálculo de área de 2 dimensões\n",
        "\n",
        "  Parâmetros\n",
        "  -----------\n",
        "  base: int\n",
        "  altura: altura\n",
        "\n",
        "  Retorno\n",
        "  -------\n",
        "  retorno: int\n",
        "\n",
        "  \"\"\"\n",
        "\n",
        "  return base * altura"
      ],
      "metadata": {
        "id": "dQc6InchnEiA"
      },
      "execution_count": null,
      "outputs": []
    },
    {
      "cell_type": "code",
      "source": [
        "calcular_area(80,10)"
      ],
      "metadata": {
        "colab": {
          "base_uri": "https://localhost:8080/"
        },
        "id": "hzaUOohknqt3",
        "outputId": "3a3002b2-cdeb-4851-bfcb-6d54352cee24"
      },
      "execution_count": null,
      "outputs": [
        {
          "output_type": "execute_result",
          "data": {
            "text/plain": [
              "800"
            ]
          },
          "metadata": {},
          "execution_count": 62
        }
      ]
    },
    {
      "cell_type": "code",
      "source": [
        "base, altura = simular_dados()"
      ],
      "metadata": {
        "id": "zB3WqFiInvrR"
      },
      "execution_count": null,
      "outputs": []
    },
    {
      "cell_type": "code",
      "source": [
        "calcular_area(base, altura)"
      ],
      "metadata": {
        "colab": {
          "base_uri": "https://localhost:8080/"
        },
        "id": "BCRtJm4Qn3Zm",
        "outputId": "c60d1cea-ed3c-4b61-bf9c-5e7d991dec5e"
      },
      "execution_count": null,
      "outputs": [
        {
          "output_type": "execute_result",
          "data": {
            "text/plain": [
              "520"
            ]
          },
          "metadata": {},
          "execution_count": 68
        }
      ]
    },
    {
      "cell_type": "markdown",
      "source": [
        "# 4) Exercícios"
      ],
      "metadata": {
        "id": "DSWPN_BDoB8w"
      }
    },
    {
      "cell_type": "markdown",
      "source": [
        "Crie uma função para cálculo de IMC conforme fórmula abaixo: <br />\n",
        "IMC=$\\frac{peso}{(altura*altura)}$"
      ],
      "metadata": {
        "id": "EK6bO9h_seUa"
      }
    },
    {
      "cell_type": "code",
      "source": [],
      "metadata": {
        "id": "uOnzajXns2SE"
      },
      "execution_count": null,
      "outputs": []
    },
    {
      "cell_type": "markdown",
      "source": [
        "Caso não consiga, veja o resultado na célula abaixo:"
      ],
      "metadata": {
        "id": "xe_u5eQBs37e"
      }
    },
    {
      "cell_type": "code",
      "source": [
        "#@title\n",
        "#Primeiro defino a função:\n",
        "def calcular_imc(peso, altura):\n",
        "  \"\"\"\n",
        "  Parâmetros\n",
        "  -------------\n",
        "  peso: int (ex: 70)\n",
        "  altura: float (ex: 1.70)\n",
        "\n",
        "  Retorno:\n",
        "  imc: float\n",
        "  \"\"\"\n",
        "  return peso/(altura*altura)\n",
        "\n",
        "#Em seguida chamo a função passando os parâmetros\n",
        "calcular_imc(70, 1.70)"
      ],
      "metadata": {
        "colab": {
          "base_uri": "https://localhost:8080/"
        },
        "cellView": "form",
        "id": "mpYJAbEQs90b",
        "outputId": "89e87ffb-5402-4656-9c77-7cbb2e2ca3b0"
      },
      "execution_count": 10,
      "outputs": [
        {
          "output_type": "execute_result",
          "data": {
            "text/plain": [
              "24.221453287197235"
            ]
          },
          "metadata": {},
          "execution_count": 10
        }
      ]
    },
    {
      "cell_type": "code",
      "source": [],
      "metadata": {
        "id": "5wrroeqNtLp7"
      },
      "execution_count": null,
      "outputs": []
    }
  ]
}