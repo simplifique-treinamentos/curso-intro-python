{
  "nbformat": 4,
  "nbformat_minor": 0,
  "metadata": {
    "colab": {
      "provenance": [],
      "authorship_tag": "ABX9TyPZSFS89d3s7FOxmsd8IQ1x",
      "include_colab_link": true
    },
    "kernelspec": {
      "name": "python3",
      "display_name": "Python 3"
    },
    "language_info": {
      "name": "python"
    }
  },
  "cells": [
    {
      "cell_type": "markdown",
      "metadata": {
        "id": "view-in-github",
        "colab_type": "text"
      },
      "source": [
        "<a href=\"https://colab.research.google.com/github/simplifique-treinamentos/curso-intro-python/blob/main/PrimeiroColab.ipynb\" target=\"_parent\"><img src=\"https://colab.research.google.com/assets/colab-badge.svg\" alt=\"Open In Colab\"/></a>"
      ]
    },
    {
      "cell_type": "code",
      "source": [],
      "metadata": {
        "id": "0Jc7LKH_Geyz"
      },
      "execution_count": null,
      "outputs": []
    },
    {
      "cell_type": "markdown",
      "source": [
        "# 1) Olá Mundo!"
      ],
      "metadata": {
        "id": "38nhk259Gc5l"
      }
    },
    {
      "cell_type": "markdown",
      "source": [
        "Célula de Texto!"
      ],
      "metadata": {
        "id": "sGOE_XIjHN1a"
      }
    },
    {
      "cell_type": "code",
      "execution_count": null,
      "metadata": {
        "colab": {
          "base_uri": "https://localhost:8080/"
        },
        "id": "Cnq6ZuK_FyNG",
        "outputId": "ffef23b4-3c1b-4407-c13c-90bb8d8abf5c"
      },
      "outputs": [
        {
          "output_type": "stream",
          "name": "stdout",
          "text": [
            "Olá Mundo!\n"
          ]
        }
      ],
      "source": [
        "print(\"Olá Mundo!\")"
      ]
    },
    {
      "cell_type": "markdown",
      "source": [
        "## Exercício 1: Tente transformar a célula abaixo em texto usando o atalho ctrl + m + m\n",
        "Obs: Aperte a tecla control e a letra \"m\" de seu teclado duas vezes"
      ],
      "metadata": {
        "id": "4TWFdJSfHObx"
      }
    },
    {
      "cell_type": "code",
      "source": [
        "Me transforme em texto!"
      ],
      "metadata": {
        "id": "cDrUy957ItjT"
      },
      "execution_count": null,
      "outputs": []
    },
    {
      "cell_type": "markdown",
      "source": [
        "## Exercício 2: Imprima seu nome na célula abaixo\n",
        "Dica: digite print() e dentro dos parênteses, insira seu nome com aspas. Ex: \"Fernando\""
      ],
      "metadata": {
        "id": "tck7zowRI8l-"
      }
    },
    {
      "cell_type": "code",
      "source": [],
      "metadata": {
        "id": "wfLCBtv5YeFu"
      },
      "execution_count": null,
      "outputs": []
    },
    {
      "cell_type": "markdown",
      "source": [
        "# 2) Bem-vindos ao python!"
      ],
      "metadata": {
        "id": "pK8KmoA4GYz0"
      }
    },
    {
      "cell_type": "code",
      "source": [],
      "metadata": {
        "id": "ybax4CSIGts_"
      },
      "execution_count": null,
      "outputs": []
    }
  ]
}