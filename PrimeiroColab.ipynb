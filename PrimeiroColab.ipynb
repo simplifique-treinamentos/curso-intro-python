{
  "nbformat": 4,
  "nbformat_minor": 0,
  "metadata": {
    "colab": {
      "provenance": [],
      "authorship_tag": "ABX9TyNp7p4sYNqEkMvzUPBEDFvF",
      "include_colab_link": true
    },
    "kernelspec": {
      "name": "python3",
      "display_name": "Python 3"
    },
    "language_info": {
      "name": "python"
    }
  },
  "cells": [
    {
      "cell_type": "markdown",
      "metadata": {
        "id": "view-in-github",
        "colab_type": "text"
      },
      "source": [
        "<a href=\"https://colab.research.google.com/github/simplifique-treinamentos/curso-intro-python/blob/main/PrimeiroColab.ipynb\" target=\"_parent\"><img src=\"https://colab.research.google.com/assets/colab-badge.svg\" alt=\"Open In Colab\"/></a>"
      ]
    },
    {
      "cell_type": "markdown",
      "source": [
        "**Para poder editar este notebook, clique no link \"Open in colab\" que aparece logo no topo deste código**"
      ],
      "metadata": {
        "id": "0Jc7LKH_Geyz"
      }
    },
    {
      "cell_type": "markdown",
      "source": [
        "![ImagemOpenInColab.png](data:image/png;base64,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)"
      ],
      "metadata": {
        "id": "EgF7RrAWKL-e"
      }
    },
    {
      "cell_type": "markdown",
      "source": [
        "# 1) Olá Mundo!"
      ],
      "metadata": {
        "id": "38nhk259Gc5l"
      }
    },
    {
      "cell_type": "markdown",
      "source": [
        "Célula de Texto!"
      ],
      "metadata": {
        "id": "sGOE_XIjHN1a"
      }
    },
    {
      "cell_type": "code",
      "execution_count": null,
      "metadata": {
        "colab": {
          "base_uri": "https://localhost:8080/"
        },
        "id": "Cnq6ZuK_FyNG",
        "outputId": "ffef23b4-3c1b-4407-c13c-90bb8d8abf5c"
      },
      "outputs": [
        {
          "output_type": "stream",
          "name": "stdout",
          "text": [
            "Olá Mundo!\n"
          ]
        }
      ],
      "source": [
        "print(\"Olá Mundo!\")"
      ]
    },
    {
      "cell_type": "markdown",
      "source": [
        "## Exercício 1: Tente transformar a célula abaixo em texto usando o atalho ctrl + m + m\n",
        "Obs: Aperte a tecla control e a letra \"m\" de seu teclado duas vezes"
      ],
      "metadata": {
        "id": "4TWFdJSfHObx"
      }
    },
    {
      "cell_type": "code",
      "source": [
        "Me transforme em texto!"
      ],
      "metadata": {
        "id": "cDrUy957ItjT"
      },
      "execution_count": null,
      "outputs": []
    },
    {
      "cell_type": "markdown",
      "source": [
        "## Exercício 2: Imprima seu nome na célula abaixo\n",
        "Dica: digite print() e dentro dos parênteses, insira seu nome com aspas. Ex: \"Fernando\""
      ],
      "metadata": {
        "id": "tck7zowRI8l-"
      }
    },
    {
      "cell_type": "code",
      "source": [],
      "metadata": {
        "id": "wfLCBtv5YeFu"
      },
      "execution_count": null,
      "outputs": []
    },
    {
      "cell_type": "markdown",
      "source": [
        "# 2) Bem-vindos ao python!"
      ],
      "metadata": {
        "id": "pK8KmoA4GYz0"
      }
    },
    {
      "cell_type": "code",
      "source": [],
      "metadata": {
        "id": "ybax4CSIGts_"
      },
      "execution_count": null,
      "outputs": []
    }
  ]
}