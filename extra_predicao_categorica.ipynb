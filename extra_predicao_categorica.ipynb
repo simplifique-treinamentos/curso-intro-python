{
  "nbformat": 4,
  "nbformat_minor": 0,
  "metadata": {
    "colab": {
      "provenance": [],
      "toc_visible": true,
      "authorship_tag": "ABX9TyNVz5/Evq/ImDpO8Uysfby+",
      "include_colab_link": true
    },
    "kernelspec": {
      "name": "python3",
      "display_name": "Python 3"
    },
    "language_info": {
      "name": "python"
    }
  },
  "cells": [
    {
      "cell_type": "markdown",
      "metadata": {
        "id": "view-in-github",
        "colab_type": "text"
      },
      "source": [
        "<a href=\"https://colab.research.google.com/github/simplifique-treinamentos/curso-intro-python/blob/main/extra_predicao_categorica.ipynb\" target=\"_parent\"><img src=\"https://colab.research.google.com/assets/colab-badge.svg\" alt=\"Open In Colab\"/></a>"
      ]
    },
    {
      "cell_type": "markdown",
      "source": [
        "#Desenvolvendo um modelo preditivo com scikit-learn"
      ],
      "metadata": {
        "id": "tYbrJSVXh1xV"
      }
    },
    {
      "cell_type": "markdown",
      "source": [
        "#1) Carga e análise de dados"
      ],
      "metadata": {
        "id": "xwFaPLLbPB07"
      }
    },
    {
      "cell_type": "markdown",
      "source": [
        "Usaremos o modelo de **regressão logística** para **PREDIÇÃO** de um **desfecho binário (doente/não doente)**. <br /><br />\n",
        "\n",
        "Este modelo pertence ao grupo **GLM** (*Generalized Linear Models*) e é comumente utilizado para **inferência** em que se deseja descobrir os fatores associados. Tem como suposições básicas que o valor do desfecho (Y) é um evento binário e os preditores são independentes entre si (X) e tem a seguinte fórmula para estimar as probabilidades:<br /><br />\n"
      ],
      "metadata": {
        "id": "VnjZlg0vPJ0c"
      }
    },
    {
      "cell_type": "markdown",
      "source": [
        "$Prob(y=1) = \\frac{1}{1+e^{-(a+xb)}} $"
      ],
      "metadata": {
        "id": "gsDMu0_TTMe2"
      }
    },
    {
      "cell_type": "markdown",
      "source": [
        "**Calma**, no nosso caso, utilizaremos para **predição**, em que nosso foco é descobrir se a pessoa irá ficar doente ou não, sem nos preocuparmos com os fatores associados. Normalmente usamos este modelo em machine learning como **baseline** para comparação com modelos mais eficientes para predição (Ex: XGBoost)."
      ],
      "metadata": {
        "id": "1lyCcwIITHOT"
      }
    },
    {
      "cell_type": "markdown",
      "source": [
        "## 1.1) Importar as bibliotecas necessárias"
      ],
      "metadata": {
        "id": "eKW8QSrbTG5w"
      }
    },
    {
      "cell_type": "code",
      "execution_count": null,
      "metadata": {
        "id": "H16-lg5_ZYa6"
      },
      "outputs": [],
      "source": [
        "import pandas as pd\n",
        "import numpy as np\n",
        "\n",
        "#bibliotecas para gerar gráficos\n",
        "import matplotlib.pyplot as plt\n",
        "import seaborn as sns\n",
        "\n",
        "#bibliotecas para desenvolver o modelo\n",
        "from sklearn.linear_model import LogisticRegression\n",
        "from sklearn.metrics import roc_auc_score\n",
        "from sklearn.metrics import accuracy_score\n",
        "\n",
        "from sklearn.model_selection import cross_val_score\n",
        "from sklearn.model_selection import train_test_split\n",
        "from sklearn.preprocessing import StandardScaler\n",
        "\n",
        "from pandas.core.common import SettingWithCopyWarning\n",
        "\n",
        "#Ignoro alguns warnings para não prejudicar a leitura do código\n",
        "np.warnings.filterwarnings(action='ignore', category=np.VisibleDeprecationWarning)\n",
        "np.warnings.simplefilter(action=\"ignore\", category=SettingWithCopyWarning)"
      ]
    },
    {
      "cell_type": "markdown",
      "source": [
        "## 1.2) Importar os dados"
      ],
      "metadata": {
        "id": "JA3GsTT-VD4G"
      }
    },
    {
      "cell_type": "code",
      "source": [
        "caminho = 'https://raw.githubusercontent.com/jbrownlee/Datasets/master/pima-indians-diabetes.data.csv'"
      ],
      "metadata": {
        "id": "raZJhooVZk5G"
      },
      "execution_count": null,
      "outputs": []
    },
    {
      "cell_type": "code",
      "source": [
        "df_diabetes = pd.read_csv(caminho, header=None, sep=\",\" , decimal=\".\")\n",
        "df_diabetes.head()"
      ],
      "metadata": {
        "colab": {
          "base_uri": "https://localhost:8080/",
          "height": 206
        },
        "id": "l6-Bflw4Zmut",
        "outputId": "ce95b6f3-dcd8-4a08-ca5c-f0f4a73ac6d8"
      },
      "execution_count": null,
      "outputs": [
        {
          "output_type": "execute_result",
          "data": {
            "text/plain": [
              "   0    1   2   3    4     5      6   7  8\n",
              "0  6  148  72  35    0  33.6  0.627  50  1\n",
              "1  1   85  66  29    0  26.6  0.351  31  0\n",
              "2  8  183  64   0    0  23.3  0.672  32  1\n",
              "3  1   89  66  23   94  28.1  0.167  21  0\n",
              "4  0  137  40  35  168  43.1  2.288  33  1"
            ],
            "text/html": [
              "\n",
              "  <div id=\"df-e42e793d-2935-4cf7-9c79-78efde70be1b\">\n",
              "    <div class=\"colab-df-container\">\n",
              "      <div>\n",
              "<style scoped>\n",
              "    .dataframe tbody tr th:only-of-type {\n",
              "        vertical-align: middle;\n",
              "    }\n",
              "\n",
              "    .dataframe tbody tr th {\n",
              "        vertical-align: top;\n",
              "    }\n",
              "\n",
              "    .dataframe thead th {\n",
              "        text-align: right;\n",
              "    }\n",
              "</style>\n",
              "<table border=\"1\" class=\"dataframe\">\n",
              "  <thead>\n",
              "    <tr style=\"text-align: right;\">\n",
              "      <th></th>\n",
              "      <th>0</th>\n",
              "      <th>1</th>\n",
              "      <th>2</th>\n",
              "      <th>3</th>\n",
              "      <th>4</th>\n",
              "      <th>5</th>\n",
              "      <th>6</th>\n",
              "      <th>7</th>\n",
              "      <th>8</th>\n",
              "    </tr>\n",
              "  </thead>\n",
              "  <tbody>\n",
              "    <tr>\n",
              "      <th>0</th>\n",
              "      <td>6</td>\n",
              "      <td>148</td>\n",
              "      <td>72</td>\n",
              "      <td>35</td>\n",
              "      <td>0</td>\n",
              "      <td>33.6</td>\n",
              "      <td>0.627</td>\n",
              "      <td>50</td>\n",
              "      <td>1</td>\n",
              "    </tr>\n",
              "    <tr>\n",
              "      <th>1</th>\n",
              "      <td>1</td>\n",
              "      <td>85</td>\n",
              "      <td>66</td>\n",
              "      <td>29</td>\n",
              "      <td>0</td>\n",
              "      <td>26.6</td>\n",
              "      <td>0.351</td>\n",
              "      <td>31</td>\n",
              "      <td>0</td>\n",
              "    </tr>\n",
              "    <tr>\n",
              "      <th>2</th>\n",
              "      <td>8</td>\n",
              "      <td>183</td>\n",
              "      <td>64</td>\n",
              "      <td>0</td>\n",
              "      <td>0</td>\n",
              "      <td>23.3</td>\n",
              "      <td>0.672</td>\n",
              "      <td>32</td>\n",
              "      <td>1</td>\n",
              "    </tr>\n",
              "    <tr>\n",
              "      <th>3</th>\n",
              "      <td>1</td>\n",
              "      <td>89</td>\n",
              "      <td>66</td>\n",
              "      <td>23</td>\n",
              "      <td>94</td>\n",
              "      <td>28.1</td>\n",
              "      <td>0.167</td>\n",
              "      <td>21</td>\n",
              "      <td>0</td>\n",
              "    </tr>\n",
              "    <tr>\n",
              "      <th>4</th>\n",
              "      <td>0</td>\n",
              "      <td>137</td>\n",
              "      <td>40</td>\n",
              "      <td>35</td>\n",
              "      <td>168</td>\n",
              "      <td>43.1</td>\n",
              "      <td>2.288</td>\n",
              "      <td>33</td>\n",
              "      <td>1</td>\n",
              "    </tr>\n",
              "  </tbody>\n",
              "</table>\n",
              "</div>\n",
              "      <button class=\"colab-df-convert\" onclick=\"convertToInteractive('df-e42e793d-2935-4cf7-9c79-78efde70be1b')\"\n",
              "              title=\"Convert this dataframe to an interactive table.\"\n",
              "              style=\"display:none;\">\n",
              "        \n",
              "  <svg xmlns=\"http://www.w3.org/2000/svg\" height=\"24px\"viewBox=\"0 0 24 24\"\n",
              "       width=\"24px\">\n",
              "    <path d=\"M0 0h24v24H0V0z\" fill=\"none\"/>\n",
              "    <path d=\"M18.56 5.44l.94 2.06.94-2.06 2.06-.94-2.06-.94-.94-2.06-.94 2.06-2.06.94zm-11 1L8.5 8.5l.94-2.06 2.06-.94-2.06-.94L8.5 2.5l-.94 2.06-2.06.94zm10 10l.94 2.06.94-2.06 2.06-.94-2.06-.94-.94-2.06-.94 2.06-2.06.94z\"/><path d=\"M17.41 7.96l-1.37-1.37c-.4-.4-.92-.59-1.43-.59-.52 0-1.04.2-1.43.59L10.3 9.45l-7.72 7.72c-.78.78-.78 2.05 0 2.83L4 21.41c.39.39.9.59 1.41.59.51 0 1.02-.2 1.41-.59l7.78-7.78 2.81-2.81c.8-.78.8-2.07 0-2.86zM5.41 20L4 18.59l7.72-7.72 1.47 1.35L5.41 20z\"/>\n",
              "  </svg>\n",
              "      </button>\n",
              "      \n",
              "  <style>\n",
              "    .colab-df-container {\n",
              "      display:flex;\n",
              "      flex-wrap:wrap;\n",
              "      gap: 12px;\n",
              "    }\n",
              "\n",
              "    .colab-df-convert {\n",
              "      background-color: #E8F0FE;\n",
              "      border: none;\n",
              "      border-radius: 50%;\n",
              "      cursor: pointer;\n",
              "      display: none;\n",
              "      fill: #1967D2;\n",
              "      height: 32px;\n",
              "      padding: 0 0 0 0;\n",
              "      width: 32px;\n",
              "    }\n",
              "\n",
              "    .colab-df-convert:hover {\n",
              "      background-color: #E2EBFA;\n",
              "      box-shadow: 0px 1px 2px rgba(60, 64, 67, 0.3), 0px 1px 3px 1px rgba(60, 64, 67, 0.15);\n",
              "      fill: #174EA6;\n",
              "    }\n",
              "\n",
              "    [theme=dark] .colab-df-convert {\n",
              "      background-color: #3B4455;\n",
              "      fill: #D2E3FC;\n",
              "    }\n",
              "\n",
              "    [theme=dark] .colab-df-convert:hover {\n",
              "      background-color: #434B5C;\n",
              "      box-shadow: 0px 1px 3px 1px rgba(0, 0, 0, 0.15);\n",
              "      filter: drop-shadow(0px 1px 2px rgba(0, 0, 0, 0.3));\n",
              "      fill: #FFFFFF;\n",
              "    }\n",
              "  </style>\n",
              "\n",
              "      <script>\n",
              "        const buttonEl =\n",
              "          document.querySelector('#df-e42e793d-2935-4cf7-9c79-78efde70be1b button.colab-df-convert');\n",
              "        buttonEl.style.display =\n",
              "          google.colab.kernel.accessAllowed ? 'block' : 'none';\n",
              "\n",
              "        async function convertToInteractive(key) {\n",
              "          const element = document.querySelector('#df-e42e793d-2935-4cf7-9c79-78efde70be1b');\n",
              "          const dataTable =\n",
              "            await google.colab.kernel.invokeFunction('convertToInteractive',\n",
              "                                                     [key], {});\n",
              "          if (!dataTable) return;\n",
              "\n",
              "          const docLinkHtml = 'Like what you see? Visit the ' +\n",
              "            '<a target=\"_blank\" href=https://colab.research.google.com/notebooks/data_table.ipynb>data table notebook</a>'\n",
              "            + ' to learn more about interactive tables.';\n",
              "          element.innerHTML = '';\n",
              "          dataTable['output_type'] = 'display_data';\n",
              "          await google.colab.output.renderOutput(dataTable, element);\n",
              "          const docLink = document.createElement('div');\n",
              "          docLink.innerHTML = docLinkHtml;\n",
              "          element.appendChild(docLink);\n",
              "        }\n",
              "      </script>\n",
              "    </div>\n",
              "  </div>\n",
              "  "
            ]
          },
          "metadata": {},
          "execution_count": 44
        }
      ]
    },
    {
      "cell_type": "code",
      "source": [
        "df_diabetes.shape"
      ],
      "metadata": {
        "colab": {
          "base_uri": "https://localhost:8080/"
        },
        "id": "--v2BH3AZn_w",
        "outputId": "1ddf22cd-bc74-48b1-dd89-f4fb00ab3534"
      },
      "execution_count": null,
      "outputs": [
        {
          "output_type": "execute_result",
          "data": {
            "text/plain": [
              "(768, 9)"
            ]
          },
          "metadata": {},
          "execution_count": 45
        }
      ]
    },
    {
      "cell_type": "markdown",
      "source": [
        "## 1.3) Atribuo nomes às colunas"
      ],
      "metadata": {
        "id": "A206jG5zVKPq"
      }
    },
    {
      "cell_type": "code",
      "source": [
        "df_diabetes.columns = ['num_gravidez','glicose','pressao_dias','espessura_pele',\n",
        "                        'teste_insulina', 'imc', 'diabetes_pedigree_function',\n",
        "                        'idade', 'diabetes'\n",
        "                      ]\n",
        "df_diabetes.head()"
      ],
      "metadata": {
        "colab": {
          "base_uri": "https://localhost:8080/",
          "height": 270
        },
        "id": "Uma4cN1lZpTj",
        "outputId": "d4a3a4a5-478a-43e4-b6b0-a898b7d9f831"
      },
      "execution_count": null,
      "outputs": [
        {
          "output_type": "execute_result",
          "data": {
            "text/plain": [
              "   num_gravidez  glicose  pressao_dias  espessura_pele  teste_insulina   imc  \\\n",
              "0             6      148            72              35               0  33.6   \n",
              "1             1       85            66              29               0  26.6   \n",
              "2             8      183            64               0               0  23.3   \n",
              "3             1       89            66              23              94  28.1   \n",
              "4             0      137            40              35             168  43.1   \n",
              "\n",
              "   diabetes_pedigree_function  idade  diabetes  \n",
              "0                       0.627     50         1  \n",
              "1                       0.351     31         0  \n",
              "2                       0.672     32         1  \n",
              "3                       0.167     21         0  \n",
              "4                       2.288     33         1  "
            ],
            "text/html": [
              "\n",
              "  <div id=\"df-75f25433-c433-4063-ba90-6f1e2ea5ee9c\">\n",
              "    <div class=\"colab-df-container\">\n",
              "      <div>\n",
              "<style scoped>\n",
              "    .dataframe tbody tr th:only-of-type {\n",
              "        vertical-align: middle;\n",
              "    }\n",
              "\n",
              "    .dataframe tbody tr th {\n",
              "        vertical-align: top;\n",
              "    }\n",
              "\n",
              "    .dataframe thead th {\n",
              "        text-align: right;\n",
              "    }\n",
              "</style>\n",
              "<table border=\"1\" class=\"dataframe\">\n",
              "  <thead>\n",
              "    <tr style=\"text-align: right;\">\n",
              "      <th></th>\n",
              "      <th>num_gravidez</th>\n",
              "      <th>glicose</th>\n",
              "      <th>pressao_dias</th>\n",
              "      <th>espessura_pele</th>\n",
              "      <th>teste_insulina</th>\n",
              "      <th>imc</th>\n",
              "      <th>diabetes_pedigree_function</th>\n",
              "      <th>idade</th>\n",
              "      <th>diabetes</th>\n",
              "    </tr>\n",
              "  </thead>\n",
              "  <tbody>\n",
              "    <tr>\n",
              "      <th>0</th>\n",
              "      <td>6</td>\n",
              "      <td>148</td>\n",
              "      <td>72</td>\n",
              "      <td>35</td>\n",
              "      <td>0</td>\n",
              "      <td>33.6</td>\n",
              "      <td>0.627</td>\n",
              "      <td>50</td>\n",
              "      <td>1</td>\n",
              "    </tr>\n",
              "    <tr>\n",
              "      <th>1</th>\n",
              "      <td>1</td>\n",
              "      <td>85</td>\n",
              "      <td>66</td>\n",
              "      <td>29</td>\n",
              "      <td>0</td>\n",
              "      <td>26.6</td>\n",
              "      <td>0.351</td>\n",
              "      <td>31</td>\n",
              "      <td>0</td>\n",
              "    </tr>\n",
              "    <tr>\n",
              "      <th>2</th>\n",
              "      <td>8</td>\n",
              "      <td>183</td>\n",
              "      <td>64</td>\n",
              "      <td>0</td>\n",
              "      <td>0</td>\n",
              "      <td>23.3</td>\n",
              "      <td>0.672</td>\n",
              "      <td>32</td>\n",
              "      <td>1</td>\n",
              "    </tr>\n",
              "    <tr>\n",
              "      <th>3</th>\n",
              "      <td>1</td>\n",
              "      <td>89</td>\n",
              "      <td>66</td>\n",
              "      <td>23</td>\n",
              "      <td>94</td>\n",
              "      <td>28.1</td>\n",
              "      <td>0.167</td>\n",
              "      <td>21</td>\n",
              "      <td>0</td>\n",
              "    </tr>\n",
              "    <tr>\n",
              "      <th>4</th>\n",
              "      <td>0</td>\n",
              "      <td>137</td>\n",
              "      <td>40</td>\n",
              "      <td>35</td>\n",
              "      <td>168</td>\n",
              "      <td>43.1</td>\n",
              "      <td>2.288</td>\n",
              "      <td>33</td>\n",
              "      <td>1</td>\n",
              "    </tr>\n",
              "  </tbody>\n",
              "</table>\n",
              "</div>\n",
              "      <button class=\"colab-df-convert\" onclick=\"convertToInteractive('df-75f25433-c433-4063-ba90-6f1e2ea5ee9c')\"\n",
              "              title=\"Convert this dataframe to an interactive table.\"\n",
              "              style=\"display:none;\">\n",
              "        \n",
              "  <svg xmlns=\"http://www.w3.org/2000/svg\" height=\"24px\"viewBox=\"0 0 24 24\"\n",
              "       width=\"24px\">\n",
              "    <path d=\"M0 0h24v24H0V0z\" fill=\"none\"/>\n",
              "    <path d=\"M18.56 5.44l.94 2.06.94-2.06 2.06-.94-2.06-.94-.94-2.06-.94 2.06-2.06.94zm-11 1L8.5 8.5l.94-2.06 2.06-.94-2.06-.94L8.5 2.5l-.94 2.06-2.06.94zm10 10l.94 2.06.94-2.06 2.06-.94-2.06-.94-.94-2.06-.94 2.06-2.06.94z\"/><path d=\"M17.41 7.96l-1.37-1.37c-.4-.4-.92-.59-1.43-.59-.52 0-1.04.2-1.43.59L10.3 9.45l-7.72 7.72c-.78.78-.78 2.05 0 2.83L4 21.41c.39.39.9.59 1.41.59.51 0 1.02-.2 1.41-.59l7.78-7.78 2.81-2.81c.8-.78.8-2.07 0-2.86zM5.41 20L4 18.59l7.72-7.72 1.47 1.35L5.41 20z\"/>\n",
              "  </svg>\n",
              "      </button>\n",
              "      \n",
              "  <style>\n",
              "    .colab-df-container {\n",
              "      display:flex;\n",
              "      flex-wrap:wrap;\n",
              "      gap: 12px;\n",
              "    }\n",
              "\n",
              "    .colab-df-convert {\n",
              "      background-color: #E8F0FE;\n",
              "      border: none;\n",
              "      border-radius: 50%;\n",
              "      cursor: pointer;\n",
              "      display: none;\n",
              "      fill: #1967D2;\n",
              "      height: 32px;\n",
              "      padding: 0 0 0 0;\n",
              "      width: 32px;\n",
              "    }\n",
              "\n",
              "    .colab-df-convert:hover {\n",
              "      background-color: #E2EBFA;\n",
              "      box-shadow: 0px 1px 2px rgba(60, 64, 67, 0.3), 0px 1px 3px 1px rgba(60, 64, 67, 0.15);\n",
              "      fill: #174EA6;\n",
              "    }\n",
              "\n",
              "    [theme=dark] .colab-df-convert {\n",
              "      background-color: #3B4455;\n",
              "      fill: #D2E3FC;\n",
              "    }\n",
              "\n",
              "    [theme=dark] .colab-df-convert:hover {\n",
              "      background-color: #434B5C;\n",
              "      box-shadow: 0px 1px 3px 1px rgba(0, 0, 0, 0.15);\n",
              "      filter: drop-shadow(0px 1px 2px rgba(0, 0, 0, 0.3));\n",
              "      fill: #FFFFFF;\n",
              "    }\n",
              "  </style>\n",
              "\n",
              "      <script>\n",
              "        const buttonEl =\n",
              "          document.querySelector('#df-75f25433-c433-4063-ba90-6f1e2ea5ee9c button.colab-df-convert');\n",
              "        buttonEl.style.display =\n",
              "          google.colab.kernel.accessAllowed ? 'block' : 'none';\n",
              "\n",
              "        async function convertToInteractive(key) {\n",
              "          const element = document.querySelector('#df-75f25433-c433-4063-ba90-6f1e2ea5ee9c');\n",
              "          const dataTable =\n",
              "            await google.colab.kernel.invokeFunction('convertToInteractive',\n",
              "                                                     [key], {});\n",
              "          if (!dataTable) return;\n",
              "\n",
              "          const docLinkHtml = 'Like what you see? Visit the ' +\n",
              "            '<a target=\"_blank\" href=https://colab.research.google.com/notebooks/data_table.ipynb>data table notebook</a>'\n",
              "            + ' to learn more about interactive tables.';\n",
              "          element.innerHTML = '';\n",
              "          dataTable['output_type'] = 'display_data';\n",
              "          await google.colab.output.renderOutput(dataTable, element);\n",
              "          const docLink = document.createElement('div');\n",
              "          docLink.innerHTML = docLinkHtml;\n",
              "          element.appendChild(docLink);\n",
              "        }\n",
              "      </script>\n",
              "    </div>\n",
              "  </div>\n",
              "  "
            ]
          },
          "metadata": {},
          "execution_count": 46
        }
      ]
    },
    {
      "cell_type": "markdown",
      "source": [
        "## 1.4) Analisar dados missing"
      ],
      "metadata": {
        "id": "1mu4Brs5XsDl"
      }
    },
    {
      "cell_type": "markdown",
      "source": [
        "Obs: O modelo logístico não suporta variáveis missing e a imputação de grandes quantidades pode prejudicar a performance do modelo."
      ],
      "metadata": {
        "id": "hleYWbS4eQ8K"
      }
    },
    {
      "cell_type": "markdown",
      "source": [
        "A seguir, analisaremos cada campo de forma individual"
      ],
      "metadata": {
        "id": "b2VveB_Veiha"
      }
    },
    {
      "cell_type": "markdown",
      "source": [
        "**glicose**"
      ],
      "metadata": {
        "id": "53hQJl_Zbw-U"
      }
    },
    {
      "cell_type": "code",
      "source": [
        "len(df_diabetes[\"glicose\"].loc[ (df_diabetes.glicose == 0) | (df_diabetes.glicose.isna())] )"
      ],
      "metadata": {
        "colab": {
          "base_uri": "https://localhost:8080/"
        },
        "id": "eNB9J6LscLfU",
        "outputId": "c2d4817a-d7c8-43d7-c68f-7dc7660e3c86"
      },
      "execution_count": null,
      "outputs": [
        {
          "output_type": "execute_result",
          "data": {
            "text/plain": [
              "5"
            ]
          },
          "metadata": {},
          "execution_count": 47
        }
      ]
    },
    {
      "cell_type": "markdown",
      "source": [
        "Achamos 5 valores zerados ou ausentes. <br/>\n",
        "Como isso representa menos de 1% do dataset, opto por manter a variável. <br />"
      ],
      "metadata": {
        "id": "BgdmSQVzcTxJ"
      }
    },
    {
      "cell_type": "code",
      "source": [
        "sns.boxplot(x=\"glicose\", data=df_diabetes)"
      ],
      "metadata": {
        "colab": {
          "base_uri": "https://localhost:8080/",
          "height": 296
        },
        "id": "5c_RhZhJccYB",
        "outputId": "ad7f166d-9485-4c74-c658-b6a7591061c3"
      },
      "execution_count": null,
      "outputs": [
        {
          "output_type": "execute_result",
          "data": {
            "text/plain": [
              "<matplotlib.axes._subplots.AxesSubplot at 0x7f1caf47e690>"
            ]
          },
          "metadata": {},
          "execution_count": 48
        },
        {
          "output_type": "display_data",
          "data": {
            "text/plain": [
              "<Figure size 432x288 with 1 Axes>"
            ],
            "image/png": "[encoded data removed]"
          },
          "metadata": {
            "needs_background": "light"
          }
        }
      ]
    },
    {
      "cell_type": "markdown",
      "source": [
        "Há poucos outliers, portanto posso fazer a imputação pela média"
      ],
      "metadata": {
        "id": "gme-uWykchWg"
      }
    },
    {
      "cell_type": "code",
      "source": [
        "#Filtro os valores 0 ou NaN e substituo pela média\n",
        "df_diabetes[\"glicose\"].loc[ (df_diabetes.glicose == 0) |\n",
        "                                 (df_diabetes.glicose.isna())]  = np.nanmean(df_diabetes['glicose'])"
      ],
      "metadata": {
        "id": "UrbCK5kvcgQt"
      },
      "execution_count": null,
      "outputs": []
    },
    {
      "cell_type": "markdown",
      "source": [
        "Analiso o campo **pressao_dias**"
      ],
      "metadata": {
        "id": "Emvn_TLdaX5_"
      }
    },
    {
      "cell_type": "code",
      "source": [
        "len(df_diabetes[\"pressao_dias\"].loc[ (df_diabetes.pressao_dias == 0) | (df_diabetes.pressao_dias.isna())] )"
      ],
      "metadata": {
        "colab": {
          "base_uri": "https://localhost:8080/"
        },
        "id": "ZUa3I-7Yb1ML",
        "outputId": "4d9b0312-76ba-4a81-a017-c7002fc613b0"
      },
      "execution_count": null,
      "outputs": [
        {
          "output_type": "execute_result",
          "data": {
            "text/plain": [
              "35"
            ]
          },
          "metadata": {},
          "execution_count": 50
        }
      ]
    },
    {
      "cell_type": "markdown",
      "source": [
        "Achamos 35 valores zerados ou ausentes. <br/>\n",
        "Como isso representa menos de 5% do nosso dataset, opto por manter a variável e imputar os valores ausentes. <br/> Rodo o gráfico de boxplot para saber se há outliers. Caso haja, podemos imputar pela mediana para minimizar o efeito dos outliers"
      ],
      "metadata": {
        "id": "QUQ9LaMHahqQ"
      }
    },
    {
      "cell_type": "code",
      "source": [
        "sns.boxplot(x=\"pressao_dias\", data=df_diabetes)"
      ],
      "metadata": {
        "colab": {
          "base_uri": "https://localhost:8080/",
          "height": 297
        },
        "id": "P_v-gsAyYw8r",
        "outputId": "ed060e67-e32b-4d03-f8fe-08c510a108ad"
      },
      "execution_count": null,
      "outputs": [
        {
          "output_type": "execute_result",
          "data": {
            "text/plain": [
              "<matplotlib.axes._subplots.AxesSubplot at 0x7f1caf3fe610>"
            ]
          },
          "metadata": {},
          "execution_count": 51
        },
        {
          "output_type": "display_data",
          "data": {
            "text/plain": [
              "<Figure size 432x288 with 1 Axes>"
            ],
            "image/png": "[encoded data removed]"
          },
          "metadata": {
            "needs_background": "light"
          }
        }
      ]
    },
    {
      "cell_type": "markdown",
      "source": [
        "Como há alguns outliers, opto por fazer a imputação pela mediana"
      ],
      "metadata": {
        "id": "kjdr6aSAY8i3"
      }
    },
    {
      "cell_type": "code",
      "source": [
        "#Filtro os valores 0 ou NaN e substituo pela mediana\n",
        "df_diabetes[\"pressao_dias\"].loc[ (df_diabetes.pressao_dias == 0) |\n",
        "                                 (df_diabetes.pressao_dias.isna())]  = np.nanmedian(df_diabetes['pressao_dias'])"
      ],
      "metadata": {
        "id": "JixamwwVZBSX"
      },
      "execution_count": null,
      "outputs": []
    },
    {
      "cell_type": "markdown",
      "source": [
        "**espessura_pele**"
      ],
      "metadata": {
        "id": "sf1jWIr9bV-H"
      }
    },
    {
      "cell_type": "code",
      "source": [
        "len(df_diabetes[\"espessura_pele\"].loc[ (df_diabetes.espessura_pele == 0) | (df_diabetes.espessura_pele.isna())] )"
      ],
      "metadata": {
        "colab": {
          "base_uri": "https://localhost:8080/"
        },
        "id": "0Gf4HlJsbPqE",
        "outputId": "87dccc4d-6cc8-4291-fffe-f38618e0c787"
      },
      "execution_count": null,
      "outputs": [
        {
          "output_type": "execute_result",
          "data": {
            "text/plain": [
              "227"
            ]
          },
          "metadata": {},
          "execution_count": 53
        }
      ]
    },
    {
      "cell_type": "markdown",
      "source": [
        "Achamos 227 valores zerados ou ausentes. <br/>\n",
        "Como isso representa quase 30% do dataset, prefiro excluir do modelo a variável. <br />"
      ],
      "metadata": {
        "id": "yz3Cl84-aRDE"
      }
    },
    {
      "cell_type": "code",
      "source": [
        "df_diabetes.drop(['espessura_pele'],axis=1, inplace=True)\n",
        "df_diabetes.head()"
      ],
      "metadata": {
        "colab": {
          "base_uri": "https://localhost:8080/",
          "height": 270
        },
        "id": "UvfeJz7sb5yy",
        "outputId": "3f5ee150-498a-4bc0-895c-6b20cf0d8b26"
      },
      "execution_count": null,
      "outputs": [
        {
          "output_type": "execute_result",
          "data": {
            "text/plain": [
              "   num_gravidez  glicose  pressao_dias  teste_insulina   imc  \\\n",
              "0             6    148.0            72               0  33.6   \n",
              "1             1     85.0            66               0  26.6   \n",
              "2             8    183.0            64               0  23.3   \n",
              "3             1     89.0            66              94  28.1   \n",
              "4             0    137.0            40             168  43.1   \n",
              "\n",
              "   diabetes_pedigree_function  idade  diabetes  \n",
              "0                       0.627     50         1  \n",
              "1                       0.351     31         0  \n",
              "2                       0.672     32         1  \n",
              "3                       0.167     21         0  \n",
              "4                       2.288     33         1  "
            ],
            "text/html": [
              "\n",
              "  <div id=\"df-92863e4d-033f-4f71-86d2-84ae7020f63e\">\n",
              "    <div class=\"colab-df-container\">\n",
              "      <div>\n",
              "<style scoped>\n",
              "    .dataframe tbody tr th:only-of-type {\n",
              "        vertical-align: middle;\n",
              "    }\n",
              "\n",
              "    .dataframe tbody tr th {\n",
              "        vertical-align: top;\n",
              "    }\n",
              "\n",
              "    .dataframe thead th {\n",
              "        text-align: right;\n",
              "    }\n",
              "</style>\n",
              "<table border=\"1\" class=\"dataframe\">\n",
              "  <thead>\n",
              "    <tr style=\"text-align: right;\">\n",
              "      <th></th>\n",
              "      <th>num_gravidez</th>\n",
              "      <th>glicose</th>\n",
              "      <th>pressao_dias</th>\n",
              "      <th>teste_insulina</th>\n",
              "      <th>imc</th>\n",
              "      <th>diabetes_pedigree_function</th>\n",
              "      <th>idade</th>\n",
              "      <th>diabetes</th>\n",
              "    </tr>\n",
              "  </thead>\n",
              "  <tbody>\n",
              "    <tr>\n",
              "      <th>0</th>\n",
              "      <td>6</td>\n",
              "      <td>148.0</td>\n",
              "      <td>72</td>\n",
              "      <td>0</td>\n",
              "      <td>33.6</td>\n",
              "      <td>0.627</td>\n",
              "      <td>50</td>\n",
              "      <td>1</td>\n",
              "    </tr>\n",
              "    <tr>\n",
              "      <th>1</th>\n",
              "      <td>1</td>\n",
              "      <td>85.0</td>\n",
              "      <td>66</td>\n",
              "      <td>0</td>\n",
              "      <td>26.6</td>\n",
              "      <td>0.351</td>\n",
              "      <td>31</td>\n",
              "      <td>0</td>\n",
              "    </tr>\n",
              "    <tr>\n",
              "      <th>2</th>\n",
              "      <td>8</td>\n",
              "      <td>183.0</td>\n",
              "      <td>64</td>\n",
              "      <td>0</td>\n",
              "      <td>23.3</td>\n",
              "      <td>0.672</td>\n",
              "      <td>32</td>\n",
              "      <td>1</td>\n",
              "    </tr>\n",
              "    <tr>\n",
              "      <th>3</th>\n",
              "      <td>1</td>\n",
              "      <td>89.0</td>\n",
              "      <td>66</td>\n",
              "      <td>94</td>\n",
              "      <td>28.1</td>\n",
              "      <td>0.167</td>\n",
              "      <td>21</td>\n",
              "      <td>0</td>\n",
              "    </tr>\n",
              "    <tr>\n",
              "      <th>4</th>\n",
              "      <td>0</td>\n",
              "      <td>137.0</td>\n",
              "      <td>40</td>\n",
              "      <td>168</td>\n",
              "      <td>43.1</td>\n",
              "      <td>2.288</td>\n",
              "      <td>33</td>\n",
              "      <td>1</td>\n",
              "    </tr>\n",
              "  </tbody>\n",
              "</table>\n",
              "</div>\n",
              "      <button class=\"colab-df-convert\" onclick=\"convertToInteractive('df-92863e4d-033f-4f71-86d2-84ae7020f63e')\"\n",
              "              title=\"Convert this dataframe to an interactive table.\"\n",
              "              style=\"display:none;\">\n",
              "        \n",
              "  <svg xmlns=\"http://www.w3.org/2000/svg\" height=\"24px\"viewBox=\"0 0 24 24\"\n",
              "       width=\"24px\">\n",
              "    <path d=\"M0 0h24v24H0V0z\" fill=\"none\"/>\n",
              "    <path d=\"M18.56 5.44l.94 2.06.94-2.06 2.06-.94-2.06-.94-.94-2.06-.94 2.06-2.06.94zm-11 1L8.5 8.5l.94-2.06 2.06-.94-2.06-.94L8.5 2.5l-.94 2.06-2.06.94zm10 10l.94 2.06.94-2.06 2.06-.94-2.06-.94-.94-2.06-.94 2.06-2.06.94z\"/><path d=\"M17.41 7.96l-1.37-1.37c-.4-.4-.92-.59-1.43-.59-.52 0-1.04.2-1.43.59L10.3 9.45l-7.72 7.72c-.78.78-.78 2.05 0 2.83L4 21.41c.39.39.9.59 1.41.59.51 0 1.02-.2 1.41-.59l7.78-7.78 2.81-2.81c.8-.78.8-2.07 0-2.86zM5.41 20L4 18.59l7.72-7.72 1.47 1.35L5.41 20z\"/>\n",
              "  </svg>\n",
              "      </button>\n",
              "      \n",
              "  <style>\n",
              "    .colab-df-container {\n",
              "      display:flex;\n",
              "      flex-wrap:wrap;\n",
              "      gap: 12px;\n",
              "    }\n",
              "\n",
              "    .colab-df-convert {\n",
              "      background-color: #E8F0FE;\n",
              "      border: none;\n",
              "      border-radius: 50%;\n",
              "      cursor: pointer;\n",
              "      display: none;\n",
              "      fill: #1967D2;\n",
              "      height: 32px;\n",
              "      padding: 0 0 0 0;\n",
              "      width: 32px;\n",
              "    }\n",
              "\n",
              "    .colab-df-convert:hover {\n",
              "      background-color: #E2EBFA;\n",
              "      box-shadow: 0px 1px 2px rgba(60, 64, 67, 0.3), 0px 1px 3px 1px rgba(60, 64, 67, 0.15);\n",
              "      fill: #174EA6;\n",
              "    }\n",
              "\n",
              "    [theme=dark] .colab-df-convert {\n",
              "      background-color: #3B4455;\n",
              "      fill: #D2E3FC;\n",
              "    }\n",
              "\n",
              "    [theme=dark] .colab-df-convert:hover {\n",
              "      background-color: #434B5C;\n",
              "      box-shadow: 0px 1px 3px 1px rgba(0, 0, 0, 0.15);\n",
              "      filter: drop-shadow(0px 1px 2px rgba(0, 0, 0, 0.3));\n",
              "      fill: #FFFFFF;\n",
              "    }\n",
              "  </style>\n",
              "\n",
              "      <script>\n",
              "        const buttonEl =\n",
              "          document.querySelector('#df-92863e4d-033f-4f71-86d2-84ae7020f63e button.colab-df-convert');\n",
              "        buttonEl.style.display =\n",
              "          google.colab.kernel.accessAllowed ? 'block' : 'none';\n",
              "\n",
              "        async function convertToInteractive(key) {\n",
              "          const element = document.querySelector('#df-92863e4d-033f-4f71-86d2-84ae7020f63e');\n",
              "          const dataTable =\n",
              "            await google.colab.kernel.invokeFunction('convertToInteractive',\n",
              "                                                     [key], {});\n",
              "          if (!dataTable) return;\n",
              "\n",
              "          const docLinkHtml = 'Like what you see? Visit the ' +\n",
              "            '<a target=\"_blank\" href=https://colab.research.google.com/notebooks/data_table.ipynb>data table notebook</a>'\n",
              "            + ' to learn more about interactive tables.';\n",
              "          element.innerHTML = '';\n",
              "          dataTable['output_type'] = 'display_data';\n",
              "          await google.colab.output.renderOutput(dataTable, element);\n",
              "          const docLink = document.createElement('div');\n",
              "          docLink.innerHTML = docLinkHtml;\n",
              "          element.appendChild(docLink);\n",
              "        }\n",
              "      </script>\n",
              "    </div>\n",
              "  </div>\n",
              "  "
            ]
          },
          "metadata": {},
          "execution_count": 54
        }
      ]
    },
    {
      "cell_type": "markdown",
      "source": [
        "**teste_insulina**"
      ],
      "metadata": {
        "id": "HFVHWGN_c0D5"
      }
    },
    {
      "cell_type": "code",
      "source": [
        "len(df_diabetes[\"teste_insulina\"].loc[ (df_diabetes.teste_insulina == 0) | (df_diabetes.teste_insulina.isna())] )"
      ],
      "metadata": {
        "colab": {
          "base_uri": "https://localhost:8080/"
        },
        "id": "O9Go5D_Kcz0l",
        "outputId": "f47dfe45-0e89-4705-e065-188b0393c024"
      },
      "execution_count": null,
      "outputs": [
        {
          "output_type": "execute_result",
          "data": {
            "text/plain": [
              "374"
            ]
          },
          "metadata": {},
          "execution_count": 55
        }
      ]
    },
    {
      "cell_type": "markdown",
      "source": [
        "Achamos 374 valores zerados ou ausentes. <br/>\n",
        "Como isso representa mais de 30% do dataset, prefiro excluir do modelo a variável. <br />"
      ],
      "metadata": {
        "id": "hbwcszfNdINJ"
      }
    },
    {
      "cell_type": "code",
      "source": [
        "df_diabetes.drop(['teste_insulina'],axis=1, inplace=True)\n",
        "df_diabetes.head()"
      ],
      "metadata": {
        "colab": {
          "base_uri": "https://localhost:8080/",
          "height": 270
        },
        "id": "FltQGo8qdNsF",
        "outputId": "ec7500e0-d5da-4cfe-8afd-222374fd4264"
      },
      "execution_count": null,
      "outputs": [
        {
          "output_type": "execute_result",
          "data": {
            "text/plain": [
              "   num_gravidez  glicose  pressao_dias   imc  diabetes_pedigree_function  \\\n",
              "0             6    148.0            72  33.6                       0.627   \n",
              "1             1     85.0            66  26.6                       0.351   \n",
              "2             8    183.0            64  23.3                       0.672   \n",
              "3             1     89.0            66  28.1                       0.167   \n",
              "4             0    137.0            40  43.1                       2.288   \n",
              "\n",
              "   idade  diabetes  \n",
              "0     50         1  \n",
              "1     31         0  \n",
              "2     32         1  \n",
              "3     21         0  \n",
              "4     33         1  "
            ],
            "text/html": [
              "\n",
              "  <div id=\"df-0f16841a-5f2e-4aa2-99e5-e5b92af4fa7e\">\n",
              "    <div class=\"colab-df-container\">\n",
              "      <div>\n",
              "<style scoped>\n",
              "    .dataframe tbody tr th:only-of-type {\n",
              "        vertical-align: middle;\n",
              "    }\n",
              "\n",
              "    .dataframe tbody tr th {\n",
              "        vertical-align: top;\n",
              "    }\n",
              "\n",
              "    .dataframe thead th {\n",
              "        text-align: right;\n",
              "    }\n",
              "</style>\n",
              "<table border=\"1\" class=\"dataframe\">\n",
              "  <thead>\n",
              "    <tr style=\"text-align: right;\">\n",
              "      <th></th>\n",
              "      <th>num_gravidez</th>\n",
              "      <th>glicose</th>\n",
              "      <th>pressao_dias</th>\n",
              "      <th>imc</th>\n",
              "      <th>diabetes_pedigree_function</th>\n",
              "      <th>idade</th>\n",
              "      <th>diabetes</th>\n",
              "    </tr>\n",
              "  </thead>\n",
              "  <tbody>\n",
              "    <tr>\n",
              "      <th>0</th>\n",
              "      <td>6</td>\n",
              "      <td>148.0</td>\n",
              "      <td>72</td>\n",
              "      <td>33.6</td>\n",
              "      <td>0.627</td>\n",
              "      <td>50</td>\n",
              "      <td>1</td>\n",
              "    </tr>\n",
              "    <tr>\n",
              "      <th>1</th>\n",
              "      <td>1</td>\n",
              "      <td>85.0</td>\n",
              "      <td>66</td>\n",
              "      <td>26.6</td>\n",
              "      <td>0.351</td>\n",
              "      <td>31</td>\n",
              "      <td>0</td>\n",
              "    </tr>\n",
              "    <tr>\n",
              "      <th>2</th>\n",
              "      <td>8</td>\n",
              "      <td>183.0</td>\n",
              "      <td>64</td>\n",
              "      <td>23.3</td>\n",
              "      <td>0.672</td>\n",
              "      <td>32</td>\n",
              "      <td>1</td>\n",
              "    </tr>\n",
              "    <tr>\n",
              "      <th>3</th>\n",
              "      <td>1</td>\n",
              "      <td>89.0</td>\n",
              "      <td>66</td>\n",
              "      <td>28.1</td>\n",
              "      <td>0.167</td>\n",
              "      <td>21</td>\n",
              "      <td>0</td>\n",
              "    </tr>\n",
              "    <tr>\n",
              "      <th>4</th>\n",
              "      <td>0</td>\n",
              "      <td>137.0</td>\n",
              "      <td>40</td>\n",
              "      <td>43.1</td>\n",
              "      <td>2.288</td>\n",
              "      <td>33</td>\n",
              "      <td>1</td>\n",
              "    </tr>\n",
              "  </tbody>\n",
              "</table>\n",
              "</div>\n",
              "      <button class=\"colab-df-convert\" onclick=\"convertToInteractive('df-0f16841a-5f2e-4aa2-99e5-e5b92af4fa7e')\"\n",
              "              title=\"Convert this dataframe to an interactive table.\"\n",
              "              style=\"display:none;\">\n",
              "        \n",
              "  <svg xmlns=\"http://www.w3.org/2000/svg\" height=\"24px\"viewBox=\"0 0 24 24\"\n",
              "       width=\"24px\">\n",
              "    <path d=\"M0 0h24v24H0V0z\" fill=\"none\"/>\n",
              "    <path d=\"M18.56 5.44l.94 2.06.94-2.06 2.06-.94-2.06-.94-.94-2.06-.94 2.06-2.06.94zm-11 1L8.5 8.5l.94-2.06 2.06-.94-2.06-.94L8.5 2.5l-.94 2.06-2.06.94zm10 10l.94 2.06.94-2.06 2.06-.94-2.06-.94-.94-2.06-.94 2.06-2.06.94z\"/><path d=\"M17.41 7.96l-1.37-1.37c-.4-.4-.92-.59-1.43-.59-.52 0-1.04.2-1.43.59L10.3 9.45l-7.72 7.72c-.78.78-.78 2.05 0 2.83L4 21.41c.39.39.9.59 1.41.59.51 0 1.02-.2 1.41-.59l7.78-7.78 2.81-2.81c.8-.78.8-2.07 0-2.86zM5.41 20L4 18.59l7.72-7.72 1.47 1.35L5.41 20z\"/>\n",
              "  </svg>\n",
              "      </button>\n",
              "      \n",
              "  <style>\n",
              "    .colab-df-container {\n",
              "      display:flex;\n",
              "      flex-wrap:wrap;\n",
              "      gap: 12px;\n",
              "    }\n",
              "\n",
              "    .colab-df-convert {\n",
              "      background-color: #E8F0FE;\n",
              "      border: none;\n",
              "      border-radius: 50%;\n",
              "      cursor: pointer;\n",
              "      display: none;\n",
              "      fill: #1967D2;\n",
              "      height: 32px;\n",
              "      padding: 0 0 0 0;\n",
              "      width: 32px;\n",
              "    }\n",
              "\n",
              "    .colab-df-convert:hover {\n",
              "      background-color: #E2EBFA;\n",
              "      box-shadow: 0px 1px 2px rgba(60, 64, 67, 0.3), 0px 1px 3px 1px rgba(60, 64, 67, 0.15);\n",
              "      fill: #174EA6;\n",
              "    }\n",
              "\n",
              "    [theme=dark] .colab-df-convert {\n",
              "      background-color: #3B4455;\n",
              "      fill: #D2E3FC;\n",
              "    }\n",
              "\n",
              "    [theme=dark] .colab-df-convert:hover {\n",
              "      background-color: #434B5C;\n",
              "      box-shadow: 0px 1px 3px 1px rgba(0, 0, 0, 0.15);\n",
              "      filter: drop-shadow(0px 1px 2px rgba(0, 0, 0, 0.3));\n",
              "      fill: #FFFFFF;\n",
              "    }\n",
              "  </style>\n",
              "\n",
              "      <script>\n",
              "        const buttonEl =\n",
              "          document.querySelector('#df-0f16841a-5f2e-4aa2-99e5-e5b92af4fa7e button.colab-df-convert');\n",
              "        buttonEl.style.display =\n",
              "          google.colab.kernel.accessAllowed ? 'block' : 'none';\n",
              "\n",
              "        async function convertToInteractive(key) {\n",
              "          const element = document.querySelector('#df-0f16841a-5f2e-4aa2-99e5-e5b92af4fa7e');\n",
              "          const dataTable =\n",
              "            await google.colab.kernel.invokeFunction('convertToInteractive',\n",
              "                                                     [key], {});\n",
              "          if (!dataTable) return;\n",
              "\n",
              "          const docLinkHtml = 'Like what you see? Visit the ' +\n",
              "            '<a target=\"_blank\" href=https://colab.research.google.com/notebooks/data_table.ipynb>data table notebook</a>'\n",
              "            + ' to learn more about interactive tables.';\n",
              "          element.innerHTML = '';\n",
              "          dataTable['output_type'] = 'display_data';\n",
              "          await google.colab.output.renderOutput(dataTable, element);\n",
              "          const docLink = document.createElement('div');\n",
              "          docLink.innerHTML = docLinkHtml;\n",
              "          element.appendChild(docLink);\n",
              "        }\n",
              "      </script>\n",
              "    </div>\n",
              "  </div>\n",
              "  "
            ]
          },
          "metadata": {},
          "execution_count": 56
        }
      ]
    },
    {
      "cell_type": "markdown",
      "source": [
        "**imc**"
      ],
      "metadata": {
        "id": "uFhEJxHBfGPy"
      }
    },
    {
      "cell_type": "code",
      "source": [
        "len(df_diabetes[\"imc\"].loc[ (df_diabetes.imc == 0) | (df_diabetes.imc.isna())] )"
      ],
      "metadata": {
        "colab": {
          "base_uri": "https://localhost:8080/"
        },
        "id": "jrLwZtizfF9s",
        "outputId": "fb48bec7-6406-4a40-a212-5eff7456c288"
      },
      "execution_count": null,
      "outputs": [
        {
          "output_type": "execute_result",
          "data": {
            "text/plain": [
              "11"
            ]
          },
          "metadata": {},
          "execution_count": 57
        }
      ]
    },
    {
      "cell_type": "code",
      "source": [
        "sns.boxplot(x=\"imc\", data=df_diabetes)"
      ],
      "metadata": {
        "colab": {
          "base_uri": "https://localhost:8080/",
          "height": 296
        },
        "id": "K_E9wJUegWjG",
        "outputId": "a96c8123-6515-48a8-b1e2-454c34b40017"
      },
      "execution_count": null,
      "outputs": [
        {
          "output_type": "execute_result",
          "data": {
            "text/plain": [
              "<matplotlib.axes._subplots.AxesSubplot at 0x7f1caf3f1390>"
            ]
          },
          "metadata": {},
          "execution_count": 58
        },
        {
          "output_type": "display_data",
          "data": {
            "text/plain": [
              "<Figure size 432x288 with 1 Axes>"
            ],
            "image/png": "[encoded data removed]"
          },
          "metadata": {
            "needs_background": "light"
          }
        }
      ]
    },
    {
      "cell_type": "markdown",
      "source": [
        "Como há bastante outliers, opto pela imputação pela mediana"
      ],
      "metadata": {
        "id": "trEwDVpLgacz"
      }
    },
    {
      "cell_type": "code",
      "source": [
        "#Filtro os valores 0 ou NaN e substituo pela mediana\n",
        "df_diabetes[\"imc\"].loc[ (df_diabetes.imc == 0) |\n",
        "                                 (df_diabetes.imc.isna())]  = np.nanmedian(df_diabetes['imc'])"
      ],
      "metadata": {
        "id": "O8AkZbOVgehm"
      },
      "execution_count": null,
      "outputs": []
    },
    {
      "cell_type": "markdown",
      "source": [
        "**diabetes_pedigree_function (dbf)**"
      ],
      "metadata": {
        "id": "uKk8kJPedTxX"
      }
    },
    {
      "cell_type": "code",
      "source": [
        "len(df_diabetes[\"diabetes_pedigree_function\"].loc[ (df_diabetes.diabetes_pedigree_function == 0) | (df_diabetes.diabetes_pedigree_function.isna())] )"
      ],
      "metadata": {
        "colab": {
          "base_uri": "https://localhost:8080/"
        },
        "id": "NBDCLv4HdW_4",
        "outputId": "6175e1fe-739a-48df-f3c4-a77d16df5fa6"
      },
      "execution_count": null,
      "outputs": [
        {
          "output_type": "execute_result",
          "data": {
            "text/plain": [
              "0"
            ]
          },
          "metadata": {},
          "execution_count": 60
        }
      ]
    },
    {
      "cell_type": "markdown",
      "source": [
        "Como não há valores zerados ou ausentes, mantemos o dbf"
      ],
      "metadata": {
        "id": "yASdmslQdbh4"
      }
    },
    {
      "cell_type": "markdown",
      "source": [
        "**idade**"
      ],
      "metadata": {
        "id": "wPX4xduMd8ic"
      }
    },
    {
      "cell_type": "code",
      "source": [
        "len(df_diabetes[\"idade\"].loc[ (df_diabetes.idade == 0) | (df_diabetes.idade.isna())] )"
      ],
      "metadata": {
        "colab": {
          "base_uri": "https://localhost:8080/"
        },
        "id": "4grlXu2Kd_OO",
        "outputId": "48ed5c7d-bab4-48d8-e918-9eaa78682fc9"
      },
      "execution_count": null,
      "outputs": [
        {
          "output_type": "execute_result",
          "data": {
            "text/plain": [
              "0"
            ]
          },
          "metadata": {},
          "execution_count": 61
        }
      ]
    },
    {
      "cell_type": "markdown",
      "source": [
        "Como não há valores zerados ou ausentes, mantemos a idade"
      ],
      "metadata": {
        "id": "9thxBaJ8d-vl"
      }
    },
    {
      "cell_type": "markdown",
      "source": [
        "##1.6) Verifico a correlação entre as variáveis\n",
        "Como vimos na análise exploratória, é necessário tratar as variáveis missing."
      ],
      "metadata": {
        "id": "bvmul0nWgu37"
      }
    },
    {
      "cell_type": "code",
      "source": [
        "df_corr = df_diabetes.drop(['diabetes'],axis=1).corr(method=\"pearson\").abs()\n",
        "df_corr"
      ],
      "metadata": {
        "colab": {
          "base_uri": "https://localhost:8080/",
          "height": 302
        },
        "id": "FhVwePkfhJ9I",
        "outputId": "048666cf-acf0-4829-cd50-58dfd8777453"
      },
      "execution_count": null,
      "outputs": [
        {
          "output_type": "execute_result",
          "data": {
            "text/plain": [
              "                            num_gravidez   glicose  pressao_dias       imc  \\\n",
              "num_gravidez                    1.000000  0.127964      0.208615  0.021546   \n",
              "glicose                         0.127964  1.000000      0.218623  0.231469   \n",
              "pressao_dias                    0.208615  0.218623      1.000000  0.281132   \n",
              "imc                             0.021546  0.231469      0.281132  1.000000   \n",
              "diabetes_pedigree_function      0.033523  0.137106      0.002378  0.153506   \n",
              "idade                           0.544341  0.266600      0.324915  0.025744   \n",
              "\n",
              "                            diabetes_pedigree_function     idade  \n",
              "num_gravidez                                  0.033523  0.544341  \n",
              "glicose                                       0.137106  0.266600  \n",
              "pressao_dias                                  0.002378  0.324915  \n",
              "imc                                           0.153506  0.025744  \n",
              "diabetes_pedigree_function                    1.000000  0.033561  \n",
              "idade                                         0.033561  1.000000  "
            ],
            "text/html": [
              "\n",
              "  <div id=\"df-dcbcb4e6-9240-413d-8d98-47a4fc2d3b8a\">\n",
              "    <div class=\"colab-df-container\">\n",
              "      <div>\n",
              "<style scoped>\n",
              "    .dataframe tbody tr th:only-of-type {\n",
              "        vertical-align: middle;\n",
              "    }\n",
              "\n",
              "    .dataframe tbody tr th {\n",
              "        vertical-align: top;\n",
              "    }\n",
              "\n",
              "    .dataframe thead th {\n",
              "        text-align: right;\n",
              "    }\n",
              "</style>\n",
              "<table border=\"1\" class=\"dataframe\">\n",
              "  <thead>\n",
              "    <tr style=\"text-align: right;\">\n",
              "      <th></th>\n",
              "      <th>num_gravidez</th>\n",
              "      <th>glicose</th>\n",
              "      <th>pressao_dias</th>\n",
              "      <th>imc</th>\n",
              "      <th>diabetes_pedigree_function</th>\n",
              "      <th>idade</th>\n",
              "    </tr>\n",
              "  </thead>\n",
              "  <tbody>\n",
              "    <tr>\n",
              "      <th>num_gravidez</th>\n",
              "      <td>1.000000</td>\n",
              "      <td>0.127964</td>\n",
              "      <td>0.208615</td>\n",
              "      <td>0.021546</td>\n",
              "      <td>0.033523</td>\n",
              "      <td>0.544341</td>\n",
              "    </tr>\n",
              "    <tr>\n",
              "      <th>glicose</th>\n",
              "      <td>0.127964</td>\n",
              "      <td>1.000000</td>\n",
              "      <td>0.218623</td>\n",
              "      <td>0.231469</td>\n",
              "      <td>0.137106</td>\n",
              "      <td>0.266600</td>\n",
              "    </tr>\n",
              "    <tr>\n",
              "      <th>pressao_dias</th>\n",
              "      <td>0.208615</td>\n",
              "      <td>0.218623</td>\n",
              "      <td>1.000000</td>\n",
              "      <td>0.281132</td>\n",
              "      <td>0.002378</td>\n",
              "      <td>0.324915</td>\n",
              "    </tr>\n",
              "    <tr>\n",
              "      <th>imc</th>\n",
              "      <td>0.021546</td>\n",
              "      <td>0.231469</td>\n",
              "      <td>0.281132</td>\n",
              "      <td>1.000000</td>\n",
              "      <td>0.153506</td>\n",
              "      <td>0.025744</td>\n",
              "    </tr>\n",
              "    <tr>\n",
              "      <th>diabetes_pedigree_function</th>\n",
              "      <td>0.033523</td>\n",
              "      <td>0.137106</td>\n",
              "      <td>0.002378</td>\n",
              "      <td>0.153506</td>\n",
              "      <td>1.000000</td>\n",
              "      <td>0.033561</td>\n",
              "    </tr>\n",
              "    <tr>\n",
              "      <th>idade</th>\n",
              "      <td>0.544341</td>\n",
              "      <td>0.266600</td>\n",
              "      <td>0.324915</td>\n",
              "      <td>0.025744</td>\n",
              "      <td>0.033561</td>\n",
              "      <td>1.000000</td>\n",
              "    </tr>\n",
              "  </tbody>\n",
              "</table>\n",
              "</div>\n",
              "      <button class=\"colab-df-convert\" onclick=\"convertToInteractive('df-dcbcb4e6-9240-413d-8d98-47a4fc2d3b8a')\"\n",
              "              title=\"Convert this dataframe to an interactive table.\"\n",
              "              style=\"display:none;\">\n",
              "        \n",
              "  <svg xmlns=\"http://www.w3.org/2000/svg\" height=\"24px\"viewBox=\"0 0 24 24\"\n",
              "       width=\"24px\">\n",
              "    <path d=\"M0 0h24v24H0V0z\" fill=\"none\"/>\n",
              "    <path d=\"M18.56 5.44l.94 2.06.94-2.06 2.06-.94-2.06-.94-.94-2.06-.94 2.06-2.06.94zm-11 1L8.5 8.5l.94-2.06 2.06-.94-2.06-.94L8.5 2.5l-.94 2.06-2.06.94zm10 10l.94 2.06.94-2.06 2.06-.94-2.06-.94-.94-2.06-.94 2.06-2.06.94z\"/><path d=\"M17.41 7.96l-1.37-1.37c-.4-.4-.92-.59-1.43-.59-.52 0-1.04.2-1.43.59L10.3 9.45l-7.72 7.72c-.78.78-.78 2.05 0 2.83L4 21.41c.39.39.9.59 1.41.59.51 0 1.02-.2 1.41-.59l7.78-7.78 2.81-2.81c.8-.78.8-2.07 0-2.86zM5.41 20L4 18.59l7.72-7.72 1.47 1.35L5.41 20z\"/>\n",
              "  </svg>\n",
              "      </button>\n",
              "      \n",
              "  <style>\n",
              "    .colab-df-container {\n",
              "      display:flex;\n",
              "      flex-wrap:wrap;\n",
              "      gap: 12px;\n",
              "    }\n",
              "\n",
              "    .colab-df-convert {\n",
              "      background-color: #E8F0FE;\n",
              "      border: none;\n",
              "      border-radius: 50%;\n",
              "      cursor: pointer;\n",
              "      display: none;\n",
              "      fill: #1967D2;\n",
              "      height: 32px;\n",
              "      padding: 0 0 0 0;\n",
              "      width: 32px;\n",
              "    }\n",
              "\n",
              "    .colab-df-convert:hover {\n",
              "      background-color: #E2EBFA;\n",
              "      box-shadow: 0px 1px 2px rgba(60, 64, 67, 0.3), 0px 1px 3px 1px rgba(60, 64, 67, 0.15);\n",
              "      fill: #174EA6;\n",
              "    }\n",
              "\n",
              "    [theme=dark] .colab-df-convert {\n",
              "      background-color: #3B4455;\n",
              "      fill: #D2E3FC;\n",
              "    }\n",
              "\n",
              "    [theme=dark] .colab-df-convert:hover {\n",
              "      background-color: #434B5C;\n",
              "      box-shadow: 0px 1px 3px 1px rgba(0, 0, 0, 0.15);\n",
              "      filter: drop-shadow(0px 1px 2px rgba(0, 0, 0, 0.3));\n",
              "      fill: #FFFFFF;\n",
              "    }\n",
              "  </style>\n",
              "\n",
              "      <script>\n",
              "        const buttonEl =\n",
              "          document.querySelector('#df-dcbcb4e6-9240-413d-8d98-47a4fc2d3b8a button.colab-df-convert');\n",
              "        buttonEl.style.display =\n",
              "          google.colab.kernel.accessAllowed ? 'block' : 'none';\n",
              "\n",
              "        async function convertToInteractive(key) {\n",
              "          const element = document.querySelector('#df-dcbcb4e6-9240-413d-8d98-47a4fc2d3b8a');\n",
              "          const dataTable =\n",
              "            await google.colab.kernel.invokeFunction('convertToInteractive',\n",
              "                                                     [key], {});\n",
              "          if (!dataTable) return;\n",
              "\n",
              "          const docLinkHtml = 'Like what you see? Visit the ' +\n",
              "            '<a target=\"_blank\" href=https://colab.research.google.com/notebooks/data_table.ipynb>data table notebook</a>'\n",
              "            + ' to learn more about interactive tables.';\n",
              "          element.innerHTML = '';\n",
              "          dataTable['output_type'] = 'display_data';\n",
              "          await google.colab.output.renderOutput(dataTable, element);\n",
              "          const docLink = document.createElement('div');\n",
              "          docLink.innerHTML = docLinkHtml;\n",
              "          element.appendChild(docLink);\n",
              "        }\n",
              "      </script>\n",
              "    </div>\n",
              "  </div>\n",
              "  "
            ]
          },
          "metadata": {},
          "execution_count": 62
        }
      ]
    },
    {
      "cell_type": "code",
      "source": [
        "#Defino o tamanho da figura (em polegadas)\n",
        "f, ax = plt.subplots(figsize=(10,8))\n",
        "\n",
        "#Crio uma matriz de valores \"False\" para o dataframe de correlações\n",
        "mascara_corr = np.zeros_like(df_corr, dtype=bool)\n",
        "\n",
        "#Coloco o valor true na parte superior diagonal da matriz\n",
        "mascara_corr[np.triu_indices_from(mascara_corr)] = True\n",
        "\n",
        "#Removo a primeira linha e a última coluna da mascara fazendo o slicing\n",
        "mascara_corr = mascara_corr[1:,:-1]\n",
        "\n",
        "#utilizo outro mapa de cores para suavizar o gráfico\n",
        "mapa_cor = sns.diverging_palette(0, 230, 90, 60, as_cmap=True)\n",
        "\n",
        "#Gero o mapa de calor\n",
        "sns.heatmap(df_corr.iloc[1:,:-1],              #dataframe de correlações\n",
        "            mask=mascara_corr,               #mascara para ocultar a parte diagonal superior\n",
        "            cmap=mapa_cor,              #Mapa de Cor (https://matplotlib.org/stable/tutorials/colors/colormaps.html)\n",
        "            linewidths = 1,             #Espessura das linhas\n",
        "            cbar_kws = {\"shrink\": .8},  #diminuo o tamanho das legendas\n",
        "            annot=True,                 #escreve o valor das correlações dentro das caixas do gráfico\n",
        "            vmin=-1,                    #Valor mínimo para exibição\n",
        "            vmax=1                      #Valor máximo para exibição\n",
        "            )\n",
        "\n",
        "#Crio um título para o gráfico\n",
        "plt.title(\"Heatmap\", size=15)\n",
        "\n",
        "#Inclino o texto do eixo x\n",
        "plt.xticks(rotation=45)\n",
        "\n",
        "#Finalmente, exibo o gráfico\n",
        "plt.show()"
      ],
      "metadata": {
        "colab": {
          "base_uri": "https://localhost:8080/",
          "height": 596
        },
        "id": "1bsUBMjMg02S",
        "outputId": "df91b45f-931d-4c17-c0dd-cd0f124df9ce"
      },
      "execution_count": null,
      "outputs": [
        {
          "output_type": "display_data",
          "data": {
            "text/plain": [
              "<Figure size 720x576 with 2 Axes>"
            ],
            "image/png": "[encoded data removed]"
          },
          "metadata": {
            "needs_background": "light"
          }
        }
      ]
    },
    {
      "cell_type": "markdown",
      "source": [
        "Como não há correlações muito fortes (acima de 0,9) mantemos todas as variáveis"
      ],
      "metadata": {
        "id": "12znq_x0hYsq"
      }
    },
    {
      "cell_type": "markdown",
      "source": [
        "#2) Desenvolvimento do Modelo preditivo"
      ],
      "metadata": {
        "id": "eykHQSS1htxL"
      }
    },
    {
      "cell_type": "markdown",
      "source": [
        "## 2.1) Defino o desfecho (Y) - Coluna Diabetes"
      ],
      "metadata": {
        "id": "1V4ED8xia-uE"
      }
    },
    {
      "cell_type": "markdown",
      "source": [
        "O desfecho também é chamado de variável dependente"
      ],
      "metadata": {
        "id": "3UJ0w3WDWIy4"
      }
    },
    {
      "cell_type": "code",
      "source": [
        "Y = df_diabetes.iloc[:,6]\n",
        "Y.value_counts()"
      ],
      "metadata": {
        "colab": {
          "base_uri": "https://localhost:8080/"
        },
        "id": "KpFTfHHBbY-S",
        "outputId": "1246a8d1-3667-464a-98bb-f30361c69d52"
      },
      "execution_count": null,
      "outputs": [
        {
          "output_type": "execute_result",
          "data": {
            "text/plain": [
              "0    500\n",
              "1    268\n",
              "Name: diabetes, dtype: int64"
            ]
          },
          "metadata": {},
          "execution_count": 64
        }
      ]
    },
    {
      "cell_type": "markdown",
      "source": [
        "Veja que há um desbalanceamento no desfecho. Há 268 casos de diabéticos e 500 de não diabéticos"
      ],
      "metadata": {
        "id": "p-0IzmFzVg_h"
      }
    },
    {
      "cell_type": "markdown",
      "source": [
        "## 2.1) Defino as variáveis preditoras (X)\n",
        "Obs: Também chamadas de variáveis independentes <br />\n",
        "**X (Preditores)**:<br/>num_gravidez, glicose, pressao_dias, imc, diabetes_pedigree_function,idade\n"
      ],
      "metadata": {
        "id": "T5VKYerfVy0a"
      }
    },
    {
      "cell_type": "code",
      "source": [
        "df_diabetes.head()"
      ],
      "metadata": {
        "colab": {
          "base_uri": "https://localhost:8080/",
          "height": 270
        },
        "id": "YHTA8NehiarO",
        "outputId": "63031abf-63f0-46c0-e8f1-722de0e089a4"
      },
      "execution_count": null,
      "outputs": [
        {
          "output_type": "execute_result",
          "data": {
            "text/plain": [
              "   num_gravidez  glicose  pressao_dias   imc  diabetes_pedigree_function  \\\n",
              "0             6    148.0            72  33.6                       0.627   \n",
              "1             1     85.0            66  26.6                       0.351   \n",
              "2             8    183.0            64  23.3                       0.672   \n",
              "3             1     89.0            66  28.1                       0.167   \n",
              "4             0    137.0            40  43.1                       2.288   \n",
              "\n",
              "   idade  diabetes  \n",
              "0     50         1  \n",
              "1     31         0  \n",
              "2     32         1  \n",
              "3     21         0  \n",
              "4     33         1  "
            ],
            "text/html": [
              "\n",
              "  <div id=\"df-a542e746-c3ed-4a7b-83ca-20f81798e6fd\">\n",
              "    <div class=\"colab-df-container\">\n",
              "      <div>\n",
              "<style scoped>\n",
              "    .dataframe tbody tr th:only-of-type {\n",
              "        vertical-align: middle;\n",
              "    }\n",
              "\n",
              "    .dataframe tbody tr th {\n",
              "        vertical-align: top;\n",
              "    }\n",
              "\n",
              "    .dataframe thead th {\n",
              "        text-align: right;\n",
              "    }\n",
              "</style>\n",
              "<table border=\"1\" class=\"dataframe\">\n",
              "  <thead>\n",
              "    <tr style=\"text-align: right;\">\n",
              "      <th></th>\n",
              "      <th>num_gravidez</th>\n",
              "      <th>glicose</th>\n",
              "      <th>pressao_dias</th>\n",
              "      <th>imc</th>\n",
              "      <th>diabetes_pedigree_function</th>\n",
              "      <th>idade</th>\n",
              "      <th>diabetes</th>\n",
              "    </tr>\n",
              "  </thead>\n",
              "  <tbody>\n",
              "    <tr>\n",
              "      <th>0</th>\n",
              "      <td>6</td>\n",
              "      <td>148.0</td>\n",
              "      <td>72</td>\n",
              "      <td>33.6</td>\n",
              "      <td>0.627</td>\n",
              "      <td>50</td>\n",
              "      <td>1</td>\n",
              "    </tr>\n",
              "    <tr>\n",
              "      <th>1</th>\n",
              "      <td>1</td>\n",
              "      <td>85.0</td>\n",
              "      <td>66</td>\n",
              "      <td>26.6</td>\n",
              "      <td>0.351</td>\n",
              "      <td>31</td>\n",
              "      <td>0</td>\n",
              "    </tr>\n",
              "    <tr>\n",
              "      <th>2</th>\n",
              "      <td>8</td>\n",
              "      <td>183.0</td>\n",
              "      <td>64</td>\n",
              "      <td>23.3</td>\n",
              "      <td>0.672</td>\n",
              "      <td>32</td>\n",
              "      <td>1</td>\n",
              "    </tr>\n",
              "    <tr>\n",
              "      <th>3</th>\n",
              "      <td>1</td>\n",
              "      <td>89.0</td>\n",
              "      <td>66</td>\n",
              "      <td>28.1</td>\n",
              "      <td>0.167</td>\n",
              "      <td>21</td>\n",
              "      <td>0</td>\n",
              "    </tr>\n",
              "    <tr>\n",
              "      <th>4</th>\n",
              "      <td>0</td>\n",
              "      <td>137.0</td>\n",
              "      <td>40</td>\n",
              "      <td>43.1</td>\n",
              "      <td>2.288</td>\n",
              "      <td>33</td>\n",
              "      <td>1</td>\n",
              "    </tr>\n",
              "  </tbody>\n",
              "</table>\n",
              "</div>\n",
              "      <button class=\"colab-df-convert\" onclick=\"convertToInteractive('df-a542e746-c3ed-4a7b-83ca-20f81798e6fd')\"\n",
              "              title=\"Convert this dataframe to an interactive table.\"\n",
              "              style=\"display:none;\">\n",
              "        \n",
              "  <svg xmlns=\"http://www.w3.org/2000/svg\" height=\"24px\"viewBox=\"0 0 24 24\"\n",
              "       width=\"24px\">\n",
              "    <path d=\"M0 0h24v24H0V0z\" fill=\"none\"/>\n",
              "    <path d=\"M18.56 5.44l.94 2.06.94-2.06 2.06-.94-2.06-.94-.94-2.06-.94 2.06-2.06.94zm-11 1L8.5 8.5l.94-2.06 2.06-.94-2.06-.94L8.5 2.5l-.94 2.06-2.06.94zm10 10l.94 2.06.94-2.06 2.06-.94-2.06-.94-.94-2.06-.94 2.06-2.06.94z\"/><path d=\"M17.41 7.96l-1.37-1.37c-.4-.4-.92-.59-1.43-.59-.52 0-1.04.2-1.43.59L10.3 9.45l-7.72 7.72c-.78.78-.78 2.05 0 2.83L4 21.41c.39.39.9.59 1.41.59.51 0 1.02-.2 1.41-.59l7.78-7.78 2.81-2.81c.8-.78.8-2.07 0-2.86zM5.41 20L4 18.59l7.72-7.72 1.47 1.35L5.41 20z\"/>\n",
              "  </svg>\n",
              "      </button>\n",
              "      \n",
              "  <style>\n",
              "    .colab-df-container {\n",
              "      display:flex;\n",
              "      flex-wrap:wrap;\n",
              "      gap: 12px;\n",
              "    }\n",
              "\n",
              "    .colab-df-convert {\n",
              "      background-color: #E8F0FE;\n",
              "      border: none;\n",
              "      border-radius: 50%;\n",
              "      cursor: pointer;\n",
              "      display: none;\n",
              "      fill: #1967D2;\n",
              "      height: 32px;\n",
              "      padding: 0 0 0 0;\n",
              "      width: 32px;\n",
              "    }\n",
              "\n",
              "    .colab-df-convert:hover {\n",
              "      background-color: #E2EBFA;\n",
              "      box-shadow: 0px 1px 2px rgba(60, 64, 67, 0.3), 0px 1px 3px 1px rgba(60, 64, 67, 0.15);\n",
              "      fill: #174EA6;\n",
              "    }\n",
              "\n",
              "    [theme=dark] .colab-df-convert {\n",
              "      background-color: #3B4455;\n",
              "      fill: #D2E3FC;\n",
              "    }\n",
              "\n",
              "    [theme=dark] .colab-df-convert:hover {\n",
              "      background-color: #434B5C;\n",
              "      box-shadow: 0px 1px 3px 1px rgba(0, 0, 0, 0.15);\n",
              "      filter: drop-shadow(0px 1px 2px rgba(0, 0, 0, 0.3));\n",
              "      fill: #FFFFFF;\n",
              "    }\n",
              "  </style>\n",
              "\n",
              "      <script>\n",
              "        const buttonEl =\n",
              "          document.querySelector('#df-a542e746-c3ed-4a7b-83ca-20f81798e6fd button.colab-df-convert');\n",
              "        buttonEl.style.display =\n",
              "          google.colab.kernel.accessAllowed ? 'block' : 'none';\n",
              "\n",
              "        async function convertToInteractive(key) {\n",
              "          const element = document.querySelector('#df-a542e746-c3ed-4a7b-83ca-20f81798e6fd');\n",
              "          const dataTable =\n",
              "            await google.colab.kernel.invokeFunction('convertToInteractive',\n",
              "                                                     [key], {});\n",
              "          if (!dataTable) return;\n",
              "\n",
              "          const docLinkHtml = 'Like what you see? Visit the ' +\n",
              "            '<a target=\"_blank\" href=https://colab.research.google.com/notebooks/data_table.ipynb>data table notebook</a>'\n",
              "            + ' to learn more about interactive tables.';\n",
              "          element.innerHTML = '';\n",
              "          dataTable['output_type'] = 'display_data';\n",
              "          await google.colab.output.renderOutput(dataTable, element);\n",
              "          const docLink = document.createElement('div');\n",
              "          docLink.innerHTML = docLinkHtml;\n",
              "          element.appendChild(docLink);\n",
              "        }\n",
              "      </script>\n",
              "    </div>\n",
              "  </div>\n",
              "  "
            ]
          },
          "metadata": {},
          "execution_count": 65
        }
      ]
    },
    {
      "cell_type": "code",
      "source": [
        "X = df_diabetes.iloc[:,0:6]\n",
        "X.head()"
      ],
      "metadata": {
        "colab": {
          "base_uri": "https://localhost:8080/",
          "height": 206
        },
        "id": "Q3D-WZ-QZ5ar",
        "outputId": "a753177e-3faf-4a14-86ab-7aee47caf247"
      },
      "execution_count": null,
      "outputs": [
        {
          "output_type": "execute_result",
          "data": {
            "text/plain": [
              "   num_gravidez  glicose  pressao_dias   imc  diabetes_pedigree_function  \\\n",
              "0             6    148.0            72  33.6                       0.627   \n",
              "1             1     85.0            66  26.6                       0.351   \n",
              "2             8    183.0            64  23.3                       0.672   \n",
              "3             1     89.0            66  28.1                       0.167   \n",
              "4             0    137.0            40  43.1                       2.288   \n",
              "\n",
              "   idade  \n",
              "0     50  \n",
              "1     31  \n",
              "2     32  \n",
              "3     21  \n",
              "4     33  "
            ],
            "text/html": [
              "\n",
              "  <div id=\"df-da56c5dd-d385-4acf-ab27-306815c6bb70\">\n",
              "    <div class=\"colab-df-container\">\n",
              "      <div>\n",
              "<style scoped>\n",
              "    .dataframe tbody tr th:only-of-type {\n",
              "        vertical-align: middle;\n",
              "    }\n",
              "\n",
              "    .dataframe tbody tr th {\n",
              "        vertical-align: top;\n",
              "    }\n",
              "\n",
              "    .dataframe thead th {\n",
              "        text-align: right;\n",
              "    }\n",
              "</style>\n",
              "<table border=\"1\" class=\"dataframe\">\n",
              "  <thead>\n",
              "    <tr style=\"text-align: right;\">\n",
              "      <th></th>\n",
              "      <th>num_gravidez</th>\n",
              "      <th>glicose</th>\n",
              "      <th>pressao_dias</th>\n",
              "      <th>imc</th>\n",
              "      <th>diabetes_pedigree_function</th>\n",
              "      <th>idade</th>\n",
              "    </tr>\n",
              "  </thead>\n",
              "  <tbody>\n",
              "    <tr>\n",
              "      <th>0</th>\n",
              "      <td>6</td>\n",
              "      <td>148.0</td>\n",
              "      <td>72</td>\n",
              "      <td>33.6</td>\n",
              "      <td>0.627</td>\n",
              "      <td>50</td>\n",
              "    </tr>\n",
              "    <tr>\n",
              "      <th>1</th>\n",
              "      <td>1</td>\n",
              "      <td>85.0</td>\n",
              "      <td>66</td>\n",
              "      <td>26.6</td>\n",
              "      <td>0.351</td>\n",
              "      <td>31</td>\n",
              "    </tr>\n",
              "    <tr>\n",
              "      <th>2</th>\n",
              "      <td>8</td>\n",
              "      <td>183.0</td>\n",
              "      <td>64</td>\n",
              "      <td>23.3</td>\n",
              "      <td>0.672</td>\n",
              "      <td>32</td>\n",
              "    </tr>\n",
              "    <tr>\n",
              "      <th>3</th>\n",
              "      <td>1</td>\n",
              "      <td>89.0</td>\n",
              "      <td>66</td>\n",
              "      <td>28.1</td>\n",
              "      <td>0.167</td>\n",
              "      <td>21</td>\n",
              "    </tr>\n",
              "    <tr>\n",
              "      <th>4</th>\n",
              "      <td>0</td>\n",
              "      <td>137.0</td>\n",
              "      <td>40</td>\n",
              "      <td>43.1</td>\n",
              "      <td>2.288</td>\n",
              "      <td>33</td>\n",
              "    </tr>\n",
              "  </tbody>\n",
              "</table>\n",
              "</div>\n",
              "      <button class=\"colab-df-convert\" onclick=\"convertToInteractive('df-da56c5dd-d385-4acf-ab27-306815c6bb70')\"\n",
              "              title=\"Convert this dataframe to an interactive table.\"\n",
              "              style=\"display:none;\">\n",
              "        \n",
              "  <svg xmlns=\"http://www.w3.org/2000/svg\" height=\"24px\"viewBox=\"0 0 24 24\"\n",
              "       width=\"24px\">\n",
              "    <path d=\"M0 0h24v24H0V0z\" fill=\"none\"/>\n",
              "    <path d=\"M18.56 5.44l.94 2.06.94-2.06 2.06-.94-2.06-.94-.94-2.06-.94 2.06-2.06.94zm-11 1L8.5 8.5l.94-2.06 2.06-.94-2.06-.94L8.5 2.5l-.94 2.06-2.06.94zm10 10l.94 2.06.94-2.06 2.06-.94-2.06-.94-.94-2.06-.94 2.06-2.06.94z\"/><path d=\"M17.41 7.96l-1.37-1.37c-.4-.4-.92-.59-1.43-.59-.52 0-1.04.2-1.43.59L10.3 9.45l-7.72 7.72c-.78.78-.78 2.05 0 2.83L4 21.41c.39.39.9.59 1.41.59.51 0 1.02-.2 1.41-.59l7.78-7.78 2.81-2.81c.8-.78.8-2.07 0-2.86zM5.41 20L4 18.59l7.72-7.72 1.47 1.35L5.41 20z\"/>\n",
              "  </svg>\n",
              "      </button>\n",
              "      \n",
              "  <style>\n",
              "    .colab-df-container {\n",
              "      display:flex;\n",
              "      flex-wrap:wrap;\n",
              "      gap: 12px;\n",
              "    }\n",
              "\n",
              "    .colab-df-convert {\n",
              "      background-color: #E8F0FE;\n",
              "      border: none;\n",
              "      border-radius: 50%;\n",
              "      cursor: pointer;\n",
              "      display: none;\n",
              "      fill: #1967D2;\n",
              "      height: 32px;\n",
              "      padding: 0 0 0 0;\n",
              "      width: 32px;\n",
              "    }\n",
              "\n",
              "    .colab-df-convert:hover {\n",
              "      background-color: #E2EBFA;\n",
              "      box-shadow: 0px 1px 2px rgba(60, 64, 67, 0.3), 0px 1px 3px 1px rgba(60, 64, 67, 0.15);\n",
              "      fill: #174EA6;\n",
              "    }\n",
              "\n",
              "    [theme=dark] .colab-df-convert {\n",
              "      background-color: #3B4455;\n",
              "      fill: #D2E3FC;\n",
              "    }\n",
              "\n",
              "    [theme=dark] .colab-df-convert:hover {\n",
              "      background-color: #434B5C;\n",
              "      box-shadow: 0px 1px 3px 1px rgba(0, 0, 0, 0.15);\n",
              "      filter: drop-shadow(0px 1px 2px rgba(0, 0, 0, 0.3));\n",
              "      fill: #FFFFFF;\n",
              "    }\n",
              "  </style>\n",
              "\n",
              "      <script>\n",
              "        const buttonEl =\n",
              "          document.querySelector('#df-da56c5dd-d385-4acf-ab27-306815c6bb70 button.colab-df-convert');\n",
              "        buttonEl.style.display =\n",
              "          google.colab.kernel.accessAllowed ? 'block' : 'none';\n",
              "\n",
              "        async function convertToInteractive(key) {\n",
              "          const element = document.querySelector('#df-da56c5dd-d385-4acf-ab27-306815c6bb70');\n",
              "          const dataTable =\n",
              "            await google.colab.kernel.invokeFunction('convertToInteractive',\n",
              "                                                     [key], {});\n",
              "          if (!dataTable) return;\n",
              "\n",
              "          const docLinkHtml = 'Like what you see? Visit the ' +\n",
              "            '<a target=\"_blank\" href=https://colab.research.google.com/notebooks/data_table.ipynb>data table notebook</a>'\n",
              "            + ' to learn more about interactive tables.';\n",
              "          element.innerHTML = '';\n",
              "          dataTable['output_type'] = 'display_data';\n",
              "          await google.colab.output.renderOutput(dataTable, element);\n",
              "          const docLink = document.createElement('div');\n",
              "          docLink.innerHTML = docLinkHtml;\n",
              "          element.appendChild(docLink);\n",
              "        }\n",
              "      </script>\n",
              "    </div>\n",
              "  </div>\n",
              "  "
            ]
          },
          "metadata": {},
          "execution_count": 66
        }
      ]
    },
    {
      "cell_type": "markdown",
      "source": [
        "## 2.2) Divido os dados para treino e testes"
      ],
      "metadata": {
        "id": "aqBzn5OvbyTS"
      }
    },
    {
      "cell_type": "markdown",
      "source": [
        "Separo 70% dos dados para treinamento e 30% para testes"
      ],
      "metadata": {
        "id": "I3IPwK7lkMUQ"
      }
    },
    {
      "cell_type": "code",
      "source": [
        "#Defino uma semente (seed) para reprodutibilidade do experimento\n",
        "seed = 42\n",
        "#Defino o percentual do conjunto de testes\n",
        "test_size = 0.30\n",
        "\n",
        "#Uso a função train_test_split() do scikit-learn para dividir os dados\n",
        "X_train, X_test, y_train, y_test = train_test_split(X, Y, test_size=test_size, random_state=42)"
      ],
      "metadata": {
        "id": "tc0_BILRcPh_"
      },
      "execution_count": null,
      "outputs": []
    },
    {
      "cell_type": "markdown",
      "source": [
        "Vejo o resultado da divisão"
      ],
      "metadata": {
        "id": "t5uBqVx4kski"
      }
    },
    {
      "cell_type": "code",
      "source": [
        "print(X_train.shape)\n",
        "print(y_train.shape)"
      ],
      "metadata": {
        "colab": {
          "base_uri": "https://localhost:8080/"
        },
        "id": "LQog8Rq2cR4L",
        "outputId": "ee1c2e54-eebf-49c1-a4fb-a08cf365643d"
      },
      "execution_count": null,
      "outputs": [
        {
          "output_type": "stream",
          "name": "stdout",
          "text": [
            "(537, 6)\n",
            "(537,)\n"
          ]
        }
      ]
    },
    {
      "cell_type": "code",
      "source": [
        "print(X_test.shape)\n",
        "print(y_test.shape)"
      ],
      "metadata": {
        "colab": {
          "base_uri": "https://localhost:8080/"
        },
        "id": "mLxi4FsgcYYp",
        "outputId": "d39f036d-0f4c-4a86-af54-2cf567d44574"
      },
      "execution_count": null,
      "outputs": [
        {
          "output_type": "stream",
          "name": "stdout",
          "text": [
            "(231, 6)\n",
            "(231,)\n"
          ]
        }
      ]
    },
    {
      "cell_type": "markdown",
      "source": [
        "##2.3) Ajusto o modelo com os dados de treino"
      ],
      "metadata": {
        "id": "rvYwyRH1kzt3"
      }
    },
    {
      "cell_type": "code",
      "source": [
        "#Crio um objeto para treinar o modelo logistico com os dados de treino (modelo_lr)\n",
        "modelo_lr = LogisticRegression()\n",
        "modelo_lr.fit(X_train,y_train)"
      ],
      "metadata": {
        "colab": {
          "base_uri": "https://localhost:8080/"
        },
        "id": "j61ZoiiSkz-l",
        "outputId": "b0599beb-3f9d-43a5-d664-6355663605fe"
      },
      "execution_count": null,
      "outputs": [
        {
          "output_type": "execute_result",
          "data": {
            "text/plain": [
              "LogisticRegression()"
            ]
          },
          "metadata": {},
          "execution_count": 71
        }
      ]
    },
    {
      "cell_type": "markdown",
      "source": [
        "Testo o modelo nos dados de testes, simulando novos dados"
      ],
      "metadata": {
        "id": "VJcteoRcmb3y"
      }
    },
    {
      "cell_type": "code",
      "source": [
        "#Obs: O modelo retorna o desfecho binário com o método predict (0 ou 1 - y_pred)\n",
        "#Obs: O modelo retorna as probabilidades calculadas com o predict_proba\n",
        "y_pred = modelo_lr.predict(X_test)\n",
        "y_pred_proba = modelo_lr.predict_proba(X_test)[:,1]"
      ],
      "metadata": {
        "id": "iQfwFezRlFEo"
      },
      "execution_count": null,
      "outputs": []
    },
    {
      "cell_type": "markdown",
      "source": [
        "Avalio o modelo com base na performance nos dados de **teste**"
      ],
      "metadata": {
        "id": "gDdfm0zvmduZ"
      }
    },
    {
      "cell_type": "code",
      "source": [
        "#Sempre avalie a eficácia do modelo nos dados de teste e não de treino, pois pode haver sobreajuste no treino\n",
        "accuracy = accuracy_score(y_test, y_pred)\n",
        "print(\"Accuracy: %.2f%%\" % (accuracy * 100.0))\n",
        "print(f\"AUC: { roc_auc_score(y_test, y_pred_proba) } \")"
      ],
      "metadata": {
        "colab": {
          "base_uri": "https://localhost:8080/"
        },
        "id": "h_i44iA8mHAQ",
        "outputId": "6c6b3c17-185c-4be5-9204-f2a685a0bea4"
      },
      "execution_count": null,
      "outputs": [
        {
          "output_type": "stream",
          "name": "stdout",
          "text": [
            "Accuracy: 74.03%\n",
            "AUC: 0.7957781456953642 \n"
          ]
        }
      ]
    },
    {
      "cell_type": "markdown",
      "source": [
        "O modelo apresentou boa acurácia (acima de 74%) e mostrou-se assertivo para os casos e não casos ao analisar a área abaixo da curva AUC. <br/>\n",
        "Obs: estes conceitos farão parte de um próximo curso em que detalharemos métricas e formas de otimizar um modelo"
      ],
      "metadata": {
        "id": "Dmj8f1ccmkWT"
      }
    },
    {
      "cell_type": "markdown",
      "source": [
        "##2.4) Tópico Avançado: Normalização e Padronização\n",
        "Em alguns casos a diferença de escala das variáveis preditoras pode deixar o modelo enviesado. Portanto, a padronização pelo zscore ou a normalização dos dados, pode melhorar a performance do modelo.<br />\n",
        "Obs: conceitos fazem parte de outro curso mais avançado"
      ],
      "metadata": {
        "id": "nhf8xVTpm6Lu"
      }
    },
    {
      "cell_type": "markdown",
      "source": [
        "$ z = \\frac{(x - u)}{s} $"
      ],
      "metadata": {
        "id": "HmXcdq0Oo1He"
      }
    },
    {
      "cell_type": "markdown",
      "source": [
        "Aplicamos a padronização pelo zscore (cenas de um próximo capítulo!) <br/>"
      ],
      "metadata": {
        "id": "fJiFHRQTpMcp"
      }
    },
    {
      "cell_type": "code",
      "source": [
        "scaler_train = StandardScaler().fit(X_train)"
      ],
      "metadata": {
        "id": "t0RlcSmlce3Z"
      },
      "execution_count": null,
      "outputs": []
    },
    {
      "cell_type": "code",
      "source": [
        "scaler_test = StandardScaler().fit(X_test)"
      ],
      "metadata": {
        "id": "C25jC7dZcfpI"
      },
      "execution_count": null,
      "outputs": []
    },
    {
      "cell_type": "code",
      "source": [
        "X_train_scaled = scaler_train.transform(X_train)"
      ],
      "metadata": {
        "id": "PV0WdNXScl2E"
      },
      "execution_count": null,
      "outputs": []
    },
    {
      "cell_type": "code",
      "source": [
        "X_train_scaled"
      ],
      "metadata": {
        "colab": {
          "base_uri": "https://localhost:8080/"
        },
        "id": "ZJaCvAQzoalu",
        "outputId": "67b73d4b-7fd7-4842-b8bd-a0b73873ffc7"
      },
      "execution_count": null,
      "outputs": [
        {
          "output_type": "execute_result",
          "data": {
            "text/plain": [
              "array([[-0.8362943 , -0.89585789, -1.00322115, -1.20341544, -0.61421636,\n",
              "        -0.94861028],\n",
              "       [ 0.39072767, -0.56374882, -0.01909007,  0.66489466, -0.90973787,\n",
              "        -0.43466673],\n",
              "       [-1.14304979,  0.43257839, -0.34713376,  1.44096193, -0.30699103,\n",
              "        -0.77729576],\n",
              "       ...,\n",
              "       [ 1.92450513, -0.69659245,  1.12906286,  1.91522526,  1.94892066,\n",
              "         0.42190587],\n",
              "       [-1.14304979,  0.63184384, -0.01909007,  1.45533355, -0.77514391,\n",
              "        -0.34900947],\n",
              "       [-1.14304979,  0.10046932,  1.9491721 , -1.40461807, -0.60836445,\n",
              "        -1.03426754]])"
            ]
          },
          "metadata": {},
          "execution_count": 77
        }
      ]
    },
    {
      "cell_type": "code",
      "source": [
        "X_test_scaled = scaler_test.transform(X_test)"
      ],
      "metadata": {
        "id": "nvj0RLdycn0-"
      },
      "execution_count": null,
      "outputs": []
    },
    {
      "cell_type": "code",
      "source": [
        "modelo_lr_scaled = LogisticRegression()\n",
        "modelo_lr_scaled.fit(X_train_scaled,y_train)"
      ],
      "metadata": {
        "colab": {
          "base_uri": "https://localhost:8080/"
        },
        "id": "OaNcdGCgbhDM",
        "outputId": "0c954d45-3507-48ad-a0b0-47934d62e1ab"
      },
      "execution_count": null,
      "outputs": [
        {
          "output_type": "execute_result",
          "data": {
            "text/plain": [
              "LogisticRegression()"
            ]
          },
          "metadata": {},
          "execution_count": 79
        }
      ]
    },
    {
      "cell_type": "code",
      "source": [
        "y_pred_scaled = modelo_lr_scaled.predict(X_test_scaled)\n",
        "y_pred_proba_scaled = modelo_lr_scaled.predict_proba(X_test_scaled)[:,1]"
      ],
      "metadata": {
        "id": "gQB2nqMOcxsp"
      },
      "execution_count": null,
      "outputs": []
    },
    {
      "cell_type": "code",
      "source": [
        "y_pred_scaled"
      ],
      "metadata": {
        "colab": {
          "base_uri": "https://localhost:8080/"
        },
        "id": "2LFffUmFx6S_",
        "outputId": "2291c70b-2d3c-4064-a522-60738519a69a"
      },
      "execution_count": null,
      "outputs": [
        {
          "output_type": "execute_result",
          "data": {
            "text/plain": [
              "array([0, 0, 0, 0, 0, 0, 0, 0, 1, 1, 0, 1, 0, 0, 0, 0, 0, 0, 1, 1, 0, 0,\n",
              "       0, 0, 1, 1, 0, 0, 0, 0, 1, 1, 1, 1, 1, 1, 1, 0, 0, 1, 0, 0, 0, 0,\n",
              "       0, 1, 1, 0, 0, 1, 0, 1, 1, 0, 0, 0, 1, 0, 0, 1, 1, 0, 0, 0, 0, 1,\n",
              "       0, 1, 0, 1, 1, 0, 0, 0, 0, 0, 0, 0, 0, 0, 1, 0, 0, 0, 0, 1, 1, 0,\n",
              "       0, 0, 0, 0, 0, 0, 1, 1, 0, 0, 1, 0, 1, 0, 1, 1, 1, 0, 0, 1, 0, 0,\n",
              "       0, 0, 0, 1, 0, 0, 1, 0, 0, 0, 0, 0, 0, 0, 0, 0, 0, 1, 1, 1, 1, 1,\n",
              "       0, 0, 1, 0, 0, 1, 1, 0, 0, 0, 0, 1, 0, 0, 0, 0, 0, 1, 0, 0, 0, 0,\n",
              "       0, 0, 0, 1, 1, 0, 0, 1, 0, 0, 0, 1, 0, 0, 1, 0, 1, 0, 0, 1, 1, 0,\n",
              "       0, 0, 0, 0, 0, 1, 0, 1, 1, 0, 0, 0, 1, 0, 0, 0, 1, 0, 0, 0, 0, 0,\n",
              "       0, 1, 0, 0, 0, 0, 1, 0, 0, 0, 1, 1, 0, 0, 0, 0, 1, 0, 1, 0, 0, 1,\n",
              "       1, 0, 0, 0, 0, 1, 0, 0, 0, 0, 0])"
            ]
          },
          "metadata": {},
          "execution_count": 81
        }
      ]
    },
    {
      "cell_type": "code",
      "source": [
        "y_pred_proba_scaled"
      ],
      "metadata": {
        "colab": {
          "base_uri": "https://localhost:8080/"
        },
        "id": "LH5FGi0sx8md",
        "outputId": "f15a3ae3-a892-462e-af8c-89d892542c5e"
      },
      "execution_count": null,
      "outputs": [
        {
          "output_type": "execute_result",
          "data": {
            "text/plain": [
              "array([0.25166059, 0.17506581, 0.10339873, 0.11607962, 0.44785052,\n",
              "       0.43709977, 0.01048842, 0.34588335, 0.55796631, 0.75168116,\n",
              "       0.19358926, 0.89495918, 0.43488568, 0.23313704, 0.05357667,\n",
              "       0.34043092, 0.11181451, 0.06050095, 0.71179213, 0.61047085,\n",
              "       0.1698359 , 0.06871516, 0.43639447, 0.08778619, 0.54135939,\n",
              "       0.88354425, 0.0897278 , 0.02513218, 0.30066382, 0.09539498,\n",
              "       0.92639701, 0.85013915, 0.84893409, 0.63829763, 0.5767358 ,\n",
              "       0.68744072, 0.95335468, 0.19189504, 0.40771971, 0.53230844,\n",
              "       0.05134102, 0.48033782, 0.48483643, 0.25657037, 0.02251297,\n",
              "       0.5561509 , 0.57182728, 0.18386247, 0.24528738, 0.96685487,\n",
              "       0.03641403, 0.64570996, 0.84719851, 0.22210505, 0.11199307,\n",
              "       0.03184529, 0.74503093, 0.04568512, 0.38883411, 0.7525022 ,\n",
              "       0.69515687, 0.32132217, 0.22499662, 0.17818482, 0.08461657,\n",
              "       0.6329075 , 0.03535866, 0.78616393, 0.02713037, 0.86708715,\n",
              "       0.72834483, 0.05429624, 0.12098012, 0.11399577, 0.06980084,\n",
              "       0.46911874, 0.1152695 , 0.09031509, 0.14220156, 0.24323327,\n",
              "       0.62635143, 0.12567271, 0.04526985, 0.45116641, 0.24546841,\n",
              "       0.88029835, 0.90738036, 0.30855136, 0.09561465, 0.07285408,\n",
              "       0.05394972, 0.23197751, 0.03409188, 0.27210886, 0.52732013,\n",
              "       0.63569787, 0.27986046, 0.10454952, 0.74976605, 0.05846262,\n",
              "       0.72031773, 0.05770211, 0.76174962, 0.57799545, 0.62026079,\n",
              "       0.25463053, 0.23138342, 0.76080941, 0.09095593, 0.41632048,\n",
              "       0.07015654, 0.3381742 , 0.14479458, 0.81733265, 0.18850082,\n",
              "       0.29156317, 0.73292918, 0.18321047, 0.04712296, 0.31749229,\n",
              "       0.04722554, 0.25222574, 0.19671365, 0.04833687, 0.25430032,\n",
              "       0.3812858 , 0.25702813, 0.84194256, 0.92289183, 0.7358978 ,\n",
              "       0.65746283, 0.87570135, 0.07808021, 0.41104399, 0.86584509,\n",
              "       0.0980713 , 0.14553335, 0.87784672, 0.78910441, 0.00860667,\n",
              "       0.07339825, 0.02974807, 0.1933445 , 0.55437288, 0.10750784,\n",
              "       0.22018787, 0.08366814, 0.01401441, 0.38580416, 0.74173991,\n",
              "       0.07444099, 0.39671792, 0.31191875, 0.13550746, 0.05068743,\n",
              "       0.32622619, 0.28176699, 0.56452738, 0.81427241, 0.13515778,\n",
              "       0.29570041, 0.62627926, 0.18893705, 0.01126959, 0.11153984,\n",
              "       0.87657481, 0.04172326, 0.30518722, 0.8071517 , 0.4587575 ,\n",
              "       0.57166504, 0.14798263, 0.29674017, 0.81150027, 0.74498922,\n",
              "       0.07886587, 0.29798903, 0.22469564, 0.19412198, 0.27775103,\n",
              "       0.471696  , 0.66066082, 0.34483686, 0.79468726, 0.64565807,\n",
              "       0.07891473, 0.03682634, 0.11154911, 0.82155482, 0.37736508,\n",
              "       0.05278126, 0.06893971, 0.74763882, 0.29470615, 0.05957375,\n",
              "       0.04566575, 0.0913377 , 0.05458903, 0.21696393, 0.7280551 ,\n",
              "       0.10157076, 0.11261185, 0.29314653, 0.25018911, 0.65903273,\n",
              "       0.07973285, 0.08368921, 0.2421201 , 0.92306603, 0.58182305,\n",
              "       0.28862909, 0.18947144, 0.12359096, 0.0858499 , 0.74033749,\n",
              "       0.07427788, 0.9036815 , 0.22533021, 0.31685923, 0.86896153,\n",
              "       0.63830607, 0.08349457, 0.05665382, 0.15008358, 0.04623194,\n",
              "       0.53163962, 0.16033178, 0.24541151, 0.31625667, 0.16807837,\n",
              "       0.09275004])"
            ]
          },
          "metadata": {},
          "execution_count": 82
        }
      ]
    },
    {
      "cell_type": "code",
      "source": [
        "# evaluate predictions\n",
        "from sklearn.metrics import roc_auc_score\n",
        "from sklearn.metrics import accuracy_score\n",
        "\n",
        "accuracy = accuracy_score(y_test, y_pred_scaled)\n",
        "print(\"Accuracy: %.2f%%\" % (accuracy * 100.0))\n",
        "print(f\"AUC: { roc_auc_score(y_test, y_pred_proba_scaled) } \")"
      ],
      "metadata": {
        "colab": {
          "base_uri": "https://localhost:8080/"
        },
        "id": "WnNQFolkc9ZR",
        "outputId": "1a19f187-0e87-4ea6-bb0d-e4dce6af5e35"
      },
      "execution_count": null,
      "outputs": [
        {
          "output_type": "stream",
          "name": "stdout",
          "text": [
            "Accuracy: 74.89%\n",
            "AUC: 0.7979304635761589 \n"
          ]
        }
      ]
    },
    {
      "cell_type": "markdown",
      "source": [
        "Veja que neste caso, a padronização melhorou um pouco a performance do modelo"
      ],
      "metadata": {
        "id": "5QhHdbSEdCz1"
      }
    },
    {
      "cell_type": "markdown",
      "source": [
        "**Obrigado**"
      ],
      "metadata": {
        "id": "_ziFISWJqLZV"
      }
    },
    {
      "cell_type": "code",
      "source": [],
      "metadata": {
        "id": "C517HQ_WqNQz"
      },
      "execution_count": null,
      "outputs": []
    }
  ]
}