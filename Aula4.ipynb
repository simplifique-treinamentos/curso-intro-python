{
  "nbformat": 4,
  "nbformat_minor": 0,
  "metadata": {
    "colab": {
      "provenance": [],
      "authorship_tag": "ABX9TyNJ48mHM8pserV6tswzKJR/",
      "include_colab_link": true
    },
    "kernelspec": {
      "name": "python3",
      "display_name": "Python 3"
    },
    "language_info": {
      "name": "python"
    }
  },
  "cells": [
    {
      "cell_type": "markdown",
      "metadata": {
        "id": "view-in-github",
        "colab_type": "text"
      },
      "source": [
        "<a href=\"https://colab.research.google.com/github/simplifique-treinamentos/curso-intro-python/blob/main/Aula4.ipynb\" target=\"_parent\"><img src=\"https://colab.research.google.com/assets/colab-badge.svg\" alt=\"Open In Colab\"/></a>"
      ]
    },
    {
      "cell_type": "markdown",
      "source": [
        "# Exercício 1"
      ],
      "metadata": {
        "id": "yvxnDVMydCku"
      }
    },
    {
      "cell_type": "code",
      "execution_count": null,
      "metadata": {
        "colab": {
          "base_uri": "https://localhost:8080/"
        },
        "id": "ey5wfg4_CRlM",
        "outputId": "3b8b67f1-ad28-4697-996c-85c154847870"
      },
      "outputs": [
        {
          "name": "stdout",
          "output_type": "stream",
          "text": [
            "Digite seu nome: Fernando\n"
          ]
        }
      ],
      "source": [
        "nome = input(\"Digite seu nome: \")"
      ]
    },
    {
      "cell_type": "code",
      "source": [
        "nome"
      ],
      "metadata": {
        "colab": {
          "base_uri": "https://localhost:8080/",
          "height": 35
        },
        "id": "hom07HG-CXzv",
        "outputId": "711bd349-3adc-428b-fbac-fb3742f22af9"
      },
      "execution_count": null,
      "outputs": [
        {
          "output_type": "execute_result",
          "data": {
            "text/plain": [
              "'Fernando'"
            ],
            "application/vnd.google.colaboratory.intrinsic+json": {
              "type": "string"
            }
          },
          "metadata": {},
          "execution_count": 2
        }
      ]
    },
    {
      "cell_type": "code",
      "source": [
        "sobrenome = input(\"Digite seu último sobrenome: \")\n"
      ],
      "metadata": {
        "colab": {
          "base_uri": "https://localhost:8080/"
        },
        "id": "4OxgDiMOCcYH",
        "outputId": "b9890fd8-1f89-4857-8025-ae52c309a12b"
      },
      "execution_count": null,
      "outputs": [
        {
          "name": "stdout",
          "output_type": "stream",
          "text": [
            "Digite seu último sobrenome: Fernandes\n"
          ]
        }
      ]
    },
    {
      "cell_type": "code",
      "source": [
        "sobrenome\n"
      ],
      "metadata": {
        "colab": {
          "base_uri": "https://localhost:8080/",
          "height": 35
        },
        "id": "NS5VnkzyChoj",
        "outputId": "770c4960-f3c9-45b9-bcab-09845cce15cc"
      },
      "execution_count": null,
      "outputs": [
        {
          "output_type": "execute_result",
          "data": {
            "text/plain": [
              "'Fernandes'"
            ],
            "application/vnd.google.colaboratory.intrinsic+json": {
              "type": "string"
            }
          },
          "metadata": {},
          "execution_count": 4
        }
      ]
    },
    {
      "cell_type": "code",
      "source": [
        "print(nome + \" \" +  sobrenome)"
      ],
      "metadata": {
        "colab": {
          "base_uri": "https://localhost:8080/"
        },
        "id": "bLv7d1m_Cjse",
        "outputId": "8535ea7b-bb85-4e6a-a783-93d205fd283c"
      },
      "execution_count": null,
      "outputs": [
        {
          "output_type": "stream",
          "name": "stdout",
          "text": [
            "Fernando Fernandes\n"
          ]
        }
      ]
    },
    {
      "cell_type": "markdown",
      "source": [
        "# Trabalhando com listas"
      ],
      "metadata": {
        "id": "EsX7N54CdGzV"
      }
    },
    {
      "cell_type": "code",
      "source": [
        "lista_inteiros = []"
      ],
      "metadata": {
        "id": "yK53LPxcCoHb"
      },
      "execution_count": null,
      "outputs": []
    },
    {
      "cell_type": "code",
      "source": [
        "type(lista_inteiros)"
      ],
      "metadata": {
        "colab": {
          "base_uri": "https://localhost:8080/"
        },
        "id": "UtN1w32CC8Sb",
        "outputId": "96ad1a28-676b-40e4-d637-75b2aa18f80d"
      },
      "execution_count": null,
      "outputs": [
        {
          "output_type": "execute_result",
          "data": {
            "text/plain": [
              "list"
            ]
          },
          "metadata": {},
          "execution_count": 7
        }
      ]
    },
    {
      "cell_type": "code",
      "source": [
        "lista_inteiros.append(1)"
      ],
      "metadata": {
        "id": "m6RHO-nxC-0y"
      },
      "execution_count": null,
      "outputs": []
    },
    {
      "cell_type": "code",
      "source": [
        "lista_inteiros"
      ],
      "metadata": {
        "colab": {
          "base_uri": "https://localhost:8080/"
        },
        "id": "GNomKs6hDFIS",
        "outputId": "7ecb9ec4-7559-4808-acca-1f0803b4dfa3"
      },
      "execution_count": null,
      "outputs": [
        {
          "output_type": "execute_result",
          "data": {
            "text/plain": [
              "[1, 2, 1, 3]"
            ]
          },
          "metadata": {},
          "execution_count": 15
        }
      ]
    },
    {
      "cell_type": "code",
      "source": [
        "lista_inteiros.append(3)"
      ],
      "metadata": {
        "id": "51gqjHnEDGvt"
      },
      "execution_count": null,
      "outputs": []
    },
    {
      "cell_type": "code",
      "source": [
        "lista_inteiros.sort()"
      ],
      "metadata": {
        "id": "ETnwHXEQDKVk"
      },
      "execution_count": null,
      "outputs": []
    },
    {
      "cell_type": "code",
      "source": [
        "lista_inteiros"
      ],
      "metadata": {
        "colab": {
          "base_uri": "https://localhost:8080/"
        },
        "id": "ve2EA7h0DV-D",
        "outputId": "9b8e812d-2d91-4b08-fb21-0ebfe350cbff"
      },
      "execution_count": null,
      "outputs": [
        {
          "output_type": "execute_result",
          "data": {
            "text/plain": [
              "[1, 1, 2, 3]"
            ]
          },
          "metadata": {},
          "execution_count": 17
        }
      ]
    },
    {
      "cell_type": "code",
      "source": [
        "lista_inteiros.sort(reverse=True)"
      ],
      "metadata": {
        "id": "3wav8elMDXTb"
      },
      "execution_count": null,
      "outputs": []
    },
    {
      "cell_type": "code",
      "source": [
        "lista_inteiros.remove(1)"
      ],
      "metadata": {
        "id": "6GlC_V2GDcko"
      },
      "execution_count": null,
      "outputs": []
    },
    {
      "cell_type": "code",
      "source": [
        "lista_inteiros"
      ],
      "metadata": {
        "colab": {
          "base_uri": "https://localhost:8080/"
        },
        "id": "nPzKqLVmDvMM",
        "outputId": "6b18ade4-8ea7-4541-9192-1331dd79f24f"
      },
      "execution_count": null,
      "outputs": [
        {
          "output_type": "execute_result",
          "data": {
            "text/plain": [
              "[3, 2, 1]"
            ]
          },
          "metadata": {},
          "execution_count": 20
        }
      ]
    },
    {
      "cell_type": "code",
      "source": [
        "lista_inteiros.sort()\n",
        "lista_inteiros"
      ],
      "metadata": {
        "colab": {
          "base_uri": "https://localhost:8080/"
        },
        "id": "Ddq6iByzDwmf",
        "outputId": "3d8d9f0b-4c13-4871-d3e1-7853c082ea75"
      },
      "execution_count": null,
      "outputs": [
        {
          "output_type": "execute_result",
          "data": {
            "text/plain": [
              "[1, 2, 3]"
            ]
          },
          "metadata": {},
          "execution_count": 21
        }
      ]
    },
    {
      "cell_type": "code",
      "source": [
        "lista_inteiros.pop()\n",
        "lista_inteiros"
      ],
      "metadata": {
        "colab": {
          "base_uri": "https://localhost:8080/"
        },
        "id": "en2DTfYaD18B",
        "outputId": "de058dec-5258-4165-c028-76691950c692"
      },
      "execution_count": null,
      "outputs": [
        {
          "output_type": "execute_result",
          "data": {
            "text/plain": [
              "[1]"
            ]
          },
          "metadata": {},
          "execution_count": 23
        }
      ]
    },
    {
      "cell_type": "code",
      "source": [
        "lista_inteiros.insert(2,6)\n",
        "lista_inteiros"
      ],
      "metadata": {
        "colab": {
          "base_uri": "https://localhost:8080/"
        },
        "id": "ZKh6EOkmD9Pe",
        "outputId": "3b428cc5-7fb2-4a8c-a65d-bf461029ee07"
      },
      "execution_count": null,
      "outputs": [
        {
          "output_type": "execute_result",
          "data": {
            "text/plain": [
              "[5, 1, 6]"
            ]
          },
          "metadata": {},
          "execution_count": 25
        }
      ]
    },
    {
      "cell_type": "code",
      "source": [
        "lista_inteiros = []"
      ],
      "metadata": {
        "id": "s83E7SHfEF31"
      },
      "execution_count": null,
      "outputs": []
    },
    {
      "cell_type": "markdown",
      "source": [
        "## Adicionar itens à lista dinamicamente"
      ],
      "metadata": {
        "id": "Ehh4rhMadLWQ"
      }
    },
    {
      "cell_type": "code",
      "source": [
        "entrada = \"\"\n",
        "\n",
        "while(entrada != \"SAIR\"):\n",
        "  entrada = input(\"Digite um número ou SAIR: \").upper()\n",
        "  if(entrada != \"SAIR\"):\n",
        "    lista_inteiros.append(int(entrada))"
      ],
      "metadata": {
        "colab": {
          "base_uri": "https://localhost:8080/"
        },
        "id": "2A3ZsAZ6EwJj",
        "outputId": "f3abcc77-a805-49a6-c000-96a74c887a02"
      },
      "execution_count": null,
      "outputs": [
        {
          "name": "stdout",
          "output_type": "stream",
          "text": [
            "Digite um número ou SAIR: 1\n",
            "Digite um número ou SAIR: 2\n",
            "Digite um número ou SAIR: 3\n",
            "Digite um número ou SAIR: sair\n"
          ]
        }
      ]
    },
    {
      "cell_type": "code",
      "source": [
        "lista_inteiros"
      ],
      "metadata": {
        "colab": {
          "base_uri": "https://localhost:8080/"
        },
        "id": "B3fUtgCUFMWb",
        "outputId": "8ce34618-842b-48b7-8687-0209c9bedd1d"
      },
      "execution_count": null,
      "outputs": [
        {
          "output_type": "execute_result",
          "data": {
            "text/plain": [
              "[1, 2, 3]"
            ]
          },
          "metadata": {},
          "execution_count": 35
        }
      ]
    },
    {
      "cell_type": "code",
      "source": [
        "#lista_inteiros.clear()"
      ],
      "metadata": {
        "id": "Hr0kE7ebFP9b"
      },
      "execution_count": null,
      "outputs": []
    },
    {
      "cell_type": "code",
      "source": [
        "lista_inteiros"
      ],
      "metadata": {
        "colab": {
          "base_uri": "https://localhost:8080/"
        },
        "id": "nrgdct4_FgTD",
        "outputId": "1bc9ac46-14a0-48b3-fcda-68d27809f4f2"
      },
      "execution_count": null,
      "outputs": [
        {
          "output_type": "execute_result",
          "data": {
            "text/plain": [
              "[1, 2, 3]"
            ]
          },
          "metadata": {},
          "execution_count": 37
        }
      ]
    },
    {
      "cell_type": "code",
      "source": [
        "#lenght\n",
        "len(lista_inteiros)"
      ],
      "metadata": {
        "colab": {
          "base_uri": "https://localhost:8080/"
        },
        "id": "NhqKathOFhRH",
        "outputId": "5d9b6db1-cdb5-47a2-bdba-177d8f48fe97"
      },
      "execution_count": null,
      "outputs": [
        {
          "output_type": "execute_result",
          "data": {
            "text/plain": [
              "3"
            ]
          },
          "metadata": {},
          "execution_count": 38
        }
      ]
    },
    {
      "cell_type": "code",
      "source": [
        "lista_inteiros[0]"
      ],
      "metadata": {
        "colab": {
          "base_uri": "https://localhost:8080/"
        },
        "id": "aRxXrFNBFpZi",
        "outputId": "edd9c5b4-95fc-411a-c845-c155aa7158ba"
      },
      "execution_count": null,
      "outputs": [
        {
          "output_type": "execute_result",
          "data": {
            "text/plain": [
              "1"
            ]
          },
          "metadata": {},
          "execution_count": 39
        }
      ]
    },
    {
      "cell_type": "code",
      "source": [
        "lista_inteiros[2]"
      ],
      "metadata": {
        "colab": {
          "base_uri": "https://localhost:8080/"
        },
        "id": "msrbp42bGWJ7",
        "outputId": "42298185-1dd6-467a-fd8d-bbb6ed5c29c5"
      },
      "execution_count": null,
      "outputs": [
        {
          "output_type": "execute_result",
          "data": {
            "text/plain": [
              "3"
            ]
          },
          "metadata": {},
          "execution_count": 40
        }
      ]
    },
    {
      "cell_type": "code",
      "source": [
        "lista_inteiros[3]"
      ],
      "metadata": {
        "colab": {
          "base_uri": "https://localhost:8080/",
          "height": 166
        },
        "id": "KKtJ_J7GGY5v",
        "outputId": "8204d530-d779-4eb1-d01a-3e138c56fa1b"
      },
      "execution_count": null,
      "outputs": [
        {
          "output_type": "error",
          "ename": "IndexError",
          "evalue": "ignored",
          "traceback": [
            "\u001b[0;31m---------------------------------------------------------------------------\u001b[0m",
            "\u001b[0;31mIndexError\u001b[0m                                Traceback (most recent call last)",
            "\u001b[0;32m<ipython-input-41-705087fafefa>\u001b[0m in \u001b[0;36m<module>\u001b[0;34m()\u001b[0m\n\u001b[0;32m----> 1\u001b[0;31m \u001b[0mlista_inteiros\u001b[0m\u001b[0;34m[\u001b[0m\u001b[0;36m3\u001b[0m\u001b[0;34m]\u001b[0m\u001b[0;34m\u001b[0m\u001b[0;34m\u001b[0m\u001b[0m\n\u001b[0m",
            "\u001b[0;31mIndexError\u001b[0m: list index out of range"
          ]
        }
      ]
    },
    {
      "cell_type": "code",
      "source": [
        "lista_inteiros.append(4)\n",
        "lista_inteiros"
      ],
      "metadata": {
        "colab": {
          "base_uri": "https://localhost:8080/"
        },
        "id": "rVA_htR-GbN1",
        "outputId": "0b2c6f9b-90e4-408e-98b9-269a13454f6b"
      },
      "execution_count": null,
      "outputs": [
        {
          "output_type": "execute_result",
          "data": {
            "text/plain": [
              "[1, 2, 3, 4]"
            ]
          },
          "metadata": {},
          "execution_count": 44
        }
      ]
    },
    {
      "cell_type": "code",
      "source": [
        "for i in lista_inteiros:\n",
        "  print(i)"
      ],
      "metadata": {
        "colab": {
          "base_uri": "https://localhost:8080/"
        },
        "id": "2rZ09tZ8G-pw",
        "outputId": "72812676-e7ab-4fdd-b4d8-c85e0899bd49"
      },
      "execution_count": null,
      "outputs": [
        {
          "output_type": "stream",
          "name": "stdout",
          "text": [
            "1\n",
            "2\n",
            "3\n",
            "4\n"
          ]
        }
      ]
    },
    {
      "cell_type": "markdown",
      "source": [
        "# Operadores Lógicos (AND e OR)"
      ],
      "metadata": {
        "id": "lux0zFA1daH9"
      }
    },
    {
      "cell_type": "code",
      "source": [
        "idade = int(input(\"Digite sua idade: \"))"
      ],
      "metadata": {
        "colab": {
          "base_uri": "https://localhost:8080/"
        },
        "id": "KbW6jO05HEYb",
        "outputId": "0c121e91-84a3-4742-f874-d7572cd57976"
      },
      "execution_count": null,
      "outputs": [
        {
          "name": "stdout",
          "output_type": "stream",
          "text": [
            "Digite sua idade: 76\n"
          ]
        }
      ]
    },
    {
      "cell_type": "code",
      "source": [
        "idade"
      ],
      "metadata": {
        "colab": {
          "base_uri": "https://localhost:8080/"
        },
        "id": "keBWI3jQITU1",
        "outputId": "edcfea73-75b7-497a-9e25-44993d0ee191"
      },
      "execution_count": null,
      "outputs": [
        {
          "output_type": "execute_result",
          "data": {
            "text/plain": [
              "76"
            ]
          },
          "metadata": {},
          "execution_count": 50
        }
      ]
    },
    {
      "cell_type": "code",
      "source": [
        "if (idade >=18 or idade <=75):\n",
        "  print(\"Dentro do limite\")\n",
        "else:\n",
        "  print(\"Fora do limite\")"
      ],
      "metadata": {
        "colab": {
          "base_uri": "https://localhost:8080/"
        },
        "id": "UnmE5RlGIVD5",
        "outputId": "891f8db3-dc2e-4a84-a412-e9e8c28408a5"
      },
      "execution_count": null,
      "outputs": [
        {
          "output_type": "stream",
          "name": "stdout",
          "text": [
            "Dentro do limite\n"
          ]
        }
      ]
    },
    {
      "cell_type": "code",
      "source": [
        "linguagem_1 = input(\"Digite a primeira linguagem: \")"
      ],
      "metadata": {
        "colab": {
          "base_uri": "https://localhost:8080/"
        },
        "id": "GtnOsVibIe2D",
        "outputId": "dfae7907-349d-4706-ed20-9373c17c51b5"
      },
      "execution_count": null,
      "outputs": [
        {
          "name": "stdout",
          "output_type": "stream",
          "text": [
            "Digite a primeira linguagem: java\n"
          ]
        }
      ]
    },
    {
      "cell_type": "code",
      "source": [
        "linguagem_2 = input(\"Digite a segunda linguagem: \")"
      ],
      "metadata": {
        "colab": {
          "base_uri": "https://localhost:8080/"
        },
        "id": "zH9K3mCWJOji",
        "outputId": "82774bdf-5a60-4bc0-bb71-2f5d8d0dc6be"
      },
      "execution_count": null,
      "outputs": [
        {
          "name": "stdout",
          "output_type": "stream",
          "text": [
            "Digite a segunda linguagem: r\n"
          ]
        }
      ]
    },
    {
      "cell_type": "code",
      "source": [
        "if ( (linguagem_1 == 'python' or linguagem_1 == 'r')\n",
        "    or (linguagem_2 == 'python' or linguagem_2 == 'r')\n",
        "    ):\n",
        "  print(\"contratado!\")\n",
        "else:\n",
        "  print(\"Estude python ou r\")"
      ],
      "metadata": {
        "colab": {
          "base_uri": "https://localhost:8080/"
        },
        "id": "TkMIim5YJSb5",
        "outputId": "639bd185-3beb-4b4b-c17f-7af81a64db04"
      },
      "execution_count": null,
      "outputs": [
        {
          "output_type": "stream",
          "name": "stdout",
          "text": [
            "contratado!\n"
          ]
        }
      ]
    },
    {
      "cell_type": "markdown",
      "source": [
        "## Exercício 2\n",
        "Faça uma loop while que adicione um peso a uma lista de pesos de indivíduos até que  o usuário digite sair. Ao digitar sair, exiba todos os elementos da lista"
      ],
      "metadata": {
        "id": "pTsQvxEMJfSS"
      }
    },
    {
      "cell_type": "code",
      "source": [
        "lista_pesos = []"
      ],
      "metadata": {
        "id": "ow6B1Xw2dteY"
      },
      "execution_count": 1,
      "outputs": []
    },
    {
      "cell_type": "code",
      "source": [
        "#@title\n",
        "entrada = \"\"\n",
        "\n",
        "while(entrada != \"SAIR\"):\n",
        "  entrada = input(\"Digite um peso ou SAIR: \").upper()\n",
        "  if(entrada != \"SAIR\"):\n",
        "    lista_pesos.append(float(entrada))\n",
        "\n",
        "lista_pesos"
      ],
      "metadata": {
        "colab": {
          "base_uri": "https://localhost:8080/"
        },
        "cellView": "form",
        "id": "KB4PUxX2dr9_",
        "outputId": "ddd29bed-918a-4b69-a7c9-e2004b73330a"
      },
      "execution_count": 2,
      "outputs": [
        {
          "name": "stdout",
          "output_type": "stream",
          "text": [
            "Digite um peso ou SAIR: 10\n",
            "Digite um peso ou SAIR: 23.5\n",
            "Digite um peso ou SAIR: 15\n",
            "Digite um peso ou SAIR: sair\n"
          ]
        }
      ]
    },
    {
      "cell_type": "code",
      "source": [
        "lista_pesos"
      ],
      "metadata": {
        "colab": {
          "base_uri": "https://localhost:8080/"
        },
        "id": "x3PQQiyBeK7m",
        "outputId": "ba9c974e-51c9-4007-db8d-8a831f22255e"
      },
      "execution_count": 3,
      "outputs": [
        {
          "output_type": "execute_result",
          "data": {
            "text/plain": [
              "[10.0, 23.5, 15.0]"
            ]
          },
          "metadata": {},
          "execution_count": 3
        }
      ]
    },
    {
      "cell_type": "code",
      "source": [],
      "metadata": {
        "id": "gA-IjjyMeSKE"
      },
      "execution_count": null,
      "outputs": []
    }
  ]
}